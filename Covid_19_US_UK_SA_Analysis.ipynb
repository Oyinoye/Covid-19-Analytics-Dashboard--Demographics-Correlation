{
  "nbformat": 4,
  "nbformat_minor": 0,
  "metadata": {
    "colab": {
      "name": "Covid-19 US-UK-SA Analysis.ipynb",
      "provenance": [],
      "authorship_tag": "ABX9TyOxnTwD5vSO6C7b1yNqGYYl",
      "include_colab_link": true
    },
    "kernelspec": {
      "name": "python3",
      "display_name": "Python 3"
    },
    "language_info": {
      "name": "python"
    }
  },
  "cells": [
    {
      "cell_type": "markdown",
      "metadata": {
        "id": "view-in-github",
        "colab_type": "text"
      },
      "source": [
        "<a href=\"https://colab.research.google.com/github/Oyinoye/Covid-19-Analytics-Dashboard--Demographics-Correlation/blob/master/Covid_19_US_UK_SA_Analysis.ipynb\" target=\"_parent\"><img src=\"https://colab.research.google.com/assets/colab-badge.svg\" alt=\"Open In Colab\"/></a>"
      ]
    },
    {
      "cell_type": "markdown",
      "metadata": {
        "id": "8II0JMqMTy5x"
      },
      "source": [
        "Data Analysis"
      ]
    },
    {
      "cell_type": "code",
      "metadata": {
        "id": "secAAw9-8SrS",
        "colab": {
          "base_uri": "https://localhost:8080/"
        },
        "outputId": "1f6f747e-663e-47fc-b532-7b8f7fd361ae"
      },
      "source": [
        "# Install Plotly\n",
        "# !pip install Plotly==4.12\n",
        "\n",
        "# Install Dash\n",
        "# !pip install dash\n",
        "# !pip install dash-html-components\n",
        "# !pip install dash-core-components\n",
        "# !pip install dash-table\n",
        "\n",
        "#Install Pycountry\n",
        "# !pip install sqlalchemy\n",
        "# !pip install seaborn"
      ],
      "execution_count": null,
      "outputs": [
        {
          "output_type": "stream",
          "name": "stdout",
          "text": [
            "Requirement already satisfied: seaborn in /usr/local/lib/python3.7/dist-packages (0.11.1)\n",
            "Requirement already satisfied: matplotlib>=2.2 in /usr/local/lib/python3.7/dist-packages (from seaborn) (3.2.2)\n",
            "Requirement already satisfied: scipy>=1.0 in /usr/local/lib/python3.7/dist-packages (from seaborn) (1.4.1)\n",
            "Requirement already satisfied: pandas>=0.23 in /usr/local/lib/python3.7/dist-packages (from seaborn) (1.1.5)\n",
            "Requirement already satisfied: numpy>=1.15 in /usr/local/lib/python3.7/dist-packages (from seaborn) (1.19.5)\n",
            "Requirement already satisfied: cycler>=0.10 in /usr/local/lib/python3.7/dist-packages (from matplotlib>=2.2->seaborn) (0.10.0)\n",
            "Requirement already satisfied: pyparsing!=2.0.4,!=2.1.2,!=2.1.6,>=2.0.1 in /usr/local/lib/python3.7/dist-packages (from matplotlib>=2.2->seaborn) (2.4.7)\n",
            "Requirement already satisfied: python-dateutil>=2.1 in /usr/local/lib/python3.7/dist-packages (from matplotlib>=2.2->seaborn) (2.8.2)\n",
            "Requirement already satisfied: kiwisolver>=1.0.1 in /usr/local/lib/python3.7/dist-packages (from matplotlib>=2.2->seaborn) (1.3.1)\n",
            "Requirement already satisfied: six in /usr/local/lib/python3.7/dist-packages (from cycler>=0.10->matplotlib>=2.2->seaborn) (1.15.0)\n",
            "Requirement already satisfied: pytz>=2017.2 in /usr/local/lib/python3.7/dist-packages (from pandas>=0.23->seaborn) (2018.9)\n"
          ]
        }
      ]
    },
    {
      "cell_type": "code",
      "metadata": {
        "id": "EQGmiYpRStAz"
      },
      "source": [
        "import pandas as pd\n",
        "import numpy\n",
        "import seaborn as sns\n",
        "import sqlite3\n",
        "from sqlite3 import Error\n",
        "import matplotlib.pyplot as plt\n"
      ],
      "execution_count": 5,
      "outputs": []
    },
    {
      "cell_type": "code",
      "metadata": {
        "colab": {
          "base_uri": "https://localhost:8080/"
        },
        "id": "y1N_gOCYTwyt",
        "outputId": "d74ff575-f8b8-4588-e634-732db5d5e13b"
      },
      "source": [
        "# Importing and checking US data \n",
        "input_file_name = '/content/covid_test_data.csv'\n",
        "df_csv = pd.read_csv(input_file_name)\n",
        "print(df_csv.head(5))"
      ],
      "execution_count": 12,
      "outputs": [
        {
          "output_type": "stream",
          "name": "stdout",
          "text": [
            "  First Name Last Name Gender  ... Test Result Hospitalized Recovered\n",
            "0      Cammy   Albares      F  ...    Negative           No       Yes\n",
            "1       Yuki   Whobrey      M  ...    Positive          Yes       Yes\n",
            "2       Tina   Clapham      F  ...    Negative           No       Yes\n",
            "3       Lura  Manzella      M  ...    Positive          Yes       Yes\n",
            "4      Lenna  Paprocki      F  ...    Positive           No        No\n",
            "\n",
            "[5 rows x 18 columns]\n"
          ]
        }
      ]
    },
    {
      "cell_type": "code",
      "metadata": {
        "colab": {
          "base_uri": "https://localhost:8080/"
        },
        "id": "eMB8Z_l0n-sD",
        "outputId": "888586a9-683d-4544-9b2e-896f900c1cc0"
      },
      "source": [
        "table_head = list(df_csv.columns.values)\n",
        "print(table_head)\n"
      ],
      "execution_count": 13,
      "outputs": [
        {
          "output_type": "stream",
          "name": "stdout",
          "text": [
            "['First Name', 'Last Name', 'Gender', 'Date of Birth', 'Ethnic Origin', 'Occupation', 'Address Line 1', 'Address Line 2', 'Town', 'Country', 'Post/Zip Code', 'Telephone No', 'Symptoms', 'Vaccinated', 'Test Date', 'Test Result', 'Hospitalized', 'Recovered']\n"
          ]
        }
      ]
    },
    {
      "cell_type": "code",
      "metadata": {
        "colab": {
          "base_uri": "https://localhost:8080/"
        },
        "id": "AgIANcBSjvFd",
        "outputId": "7ac741ea-5335-49fd-84ab-ad436c37845d"
      },
      "source": [
        "# Create database connection\n",
        "\n",
        "def create_connection(db_file):\n",
        "    conn = None\n",
        "    try:\n",
        "        conn = sqlite3.connect(db_file)\n",
        "    except Error as e:\n",
        "        print(e)\n",
        "\n",
        "    return conn\n",
        "\n",
        "create_connection('data_covid.db')"
      ],
      "execution_count": 14,
      "outputs": [
        {
          "output_type": "execute_result",
          "data": {
            "text/plain": [
              "<sqlite3.Connection at 0x7f94712f62d0>"
            ]
          },
          "metadata": {},
          "execution_count": 14
        }
      ]
    },
    {
      "cell_type": "code",
      "metadata": {
        "id": "jw_NPO2fn_Cy",
        "colab": {
          "base_uri": "https://localhost:8080/"
        },
        "outputId": "c2659c2e-1170-403b-c305-e71f8559dcfc"
      },
      "source": [
        "# create_connection to ('data_covid.db') and create table\n",
        "                \n",
        "conn = create_connection('data_covid.db')\n",
        "\n",
        "def create_table(tblName):\n",
        "    # Create table and append csv file\n",
        "    df_csv.to_sql('User_tbl', conn, if_exists='replace', index=False)\n",
        "    # db.session.add(sql_table)\n",
        "    # db.session.commit()\n",
        "\n",
        "create_table('User_tbl')"
      ],
      "execution_count": 15,
      "outputs": [
        {
          "output_type": "stream",
          "name": "stderr",
          "text": [
            "/usr/local/lib/python3.7/dist-packages/pandas/core/generic.py:2615: UserWarning: The spaces in these column names will not be changed. In pandas versions < 0.14, spaces were converted to underscores.\n",
            "  method=method,\n"
          ]
        }
      ]
    },
    {
      "cell_type": "code",
      "metadata": {
        "colab": {
          "base_uri": "https://localhost:8080/",
          "height": 247
        },
        "id": "09Vbem9Im2ga",
        "outputId": "16531468-e07e-4bb9-d3e0-2c0564607fcb"
      },
      "source": [
        "# Create cursor and get dataframe from sql file.\n",
        "\n",
        "cur = conn.cursor()\n",
        "\n",
        "conn.commit()\n",
        "\n",
        "df = pd.read_sql_query('SELECT * FROM User_tbl', conn)\n",
        "\n",
        "df.describe()"
      ],
      "execution_count": 17,
      "outputs": [
        {
          "output_type": "execute_result",
          "data": {
            "text/html": [
              "<div>\n",
              "<style scoped>\n",
              "    .dataframe tbody tr th:only-of-type {\n",
              "        vertical-align: middle;\n",
              "    }\n",
              "\n",
              "    .dataframe tbody tr th {\n",
              "        vertical-align: top;\n",
              "    }\n",
              "\n",
              "    .dataframe thead th {\n",
              "        text-align: right;\n",
              "    }\n",
              "</style>\n",
              "<table border=\"1\" class=\"dataframe\">\n",
              "  <thead>\n",
              "    <tr style=\"text-align: right;\">\n",
              "      <th></th>\n",
              "      <th>First Name</th>\n",
              "      <th>Last Name</th>\n",
              "      <th>Gender</th>\n",
              "      <th>Date of Birth</th>\n",
              "      <th>Ethnic Origin</th>\n",
              "      <th>Occupation</th>\n",
              "      <th>Address Line 1</th>\n",
              "      <th>Address Line 2</th>\n",
              "      <th>Town</th>\n",
              "      <th>Country</th>\n",
              "      <th>Post/Zip Code</th>\n",
              "      <th>Telephone No</th>\n",
              "      <th>Symptoms</th>\n",
              "      <th>Vaccinated</th>\n",
              "      <th>Test Date</th>\n",
              "      <th>Test Result</th>\n",
              "      <th>Hospitalized</th>\n",
              "      <th>Recovered</th>\n",
              "    </tr>\n",
              "  </thead>\n",
              "  <tbody>\n",
              "    <tr>\n",
              "      <th>count</th>\n",
              "      <td>87</td>\n",
              "      <td>87</td>\n",
              "      <td>87</td>\n",
              "      <td>87</td>\n",
              "      <td>87</td>\n",
              "      <td>87</td>\n",
              "      <td>87</td>\n",
              "      <td>87</td>\n",
              "      <td>87</td>\n",
              "      <td>87</td>\n",
              "      <td>87</td>\n",
              "      <td>87</td>\n",
              "      <td>87</td>\n",
              "      <td>87</td>\n",
              "      <td>87</td>\n",
              "      <td>87</td>\n",
              "      <td>87</td>\n",
              "      <td>87</td>\n",
              "    </tr>\n",
              "    <tr>\n",
              "      <th>unique</th>\n",
              "      <td>85</td>\n",
              "      <td>85</td>\n",
              "      <td>2</td>\n",
              "      <td>87</td>\n",
              "      <td>5</td>\n",
              "      <td>9</td>\n",
              "      <td>86</td>\n",
              "      <td>79</td>\n",
              "      <td>56</td>\n",
              "      <td>6</td>\n",
              "      <td>84</td>\n",
              "      <td>86</td>\n",
              "      <td>2</td>\n",
              "      <td>2</td>\n",
              "      <td>51</td>\n",
              "      <td>2</td>\n",
              "      <td>2</td>\n",
              "      <td>2</td>\n",
              "    </tr>\n",
              "    <tr>\n",
              "      <th>top</th>\n",
              "      <td>Alisha</td>\n",
              "      <td>Bowling</td>\n",
              "      <td>F</td>\n",
              "      <td>11/18/1991</td>\n",
              "      <td>Asian</td>\n",
              "      <td>Service &amp; Support Workers</td>\n",
              "      <td>8 Nova Scotia</td>\n",
              "      <td>Central Buchan Ward</td>\n",
              "      <td>Aberdeenshire</td>\n",
              "      <td>United States of America</td>\n",
              "      <td>CF40 2JJ</td>\n",
              "      <td>01816-462521</td>\n",
              "      <td>Yes</td>\n",
              "      <td>Yes</td>\n",
              "      <td>7/3/2021</td>\n",
              "      <td>Positive</td>\n",
              "      <td>Yes</td>\n",
              "      <td>Yes</td>\n",
              "    </tr>\n",
              "    <tr>\n",
              "      <th>freq</th>\n",
              "      <td>2</td>\n",
              "      <td>2</td>\n",
              "      <td>47</td>\n",
              "      <td>1</td>\n",
              "      <td>27</td>\n",
              "      <td>13</td>\n",
              "      <td>2</td>\n",
              "      <td>2</td>\n",
              "      <td>6</td>\n",
              "      <td>30</td>\n",
              "      <td>2</td>\n",
              "      <td>2</td>\n",
              "      <td>50</td>\n",
              "      <td>47</td>\n",
              "      <td>5</td>\n",
              "      <td>48</td>\n",
              "      <td>48</td>\n",
              "      <td>49</td>\n",
              "    </tr>\n",
              "  </tbody>\n",
              "</table>\n",
              "</div>"
            ],
            "text/plain": [
              "       First Name Last Name Gender  ... Test Result Hospitalized Recovered\n",
              "count          87        87     87  ...          87           87        87\n",
              "unique         85        85      2  ...           2            2         2\n",
              "top        Alisha   Bowling      F  ...    Positive          Yes       Yes\n",
              "freq            2         2     47  ...          48           48        49\n",
              "\n",
              "[4 rows x 18 columns]"
            ]
          },
          "metadata": {},
          "execution_count": 17
        }
      ]
    },
    {
      "cell_type": "markdown",
      "metadata": {
        "id": "WN1UcFYbxR8w"
      },
      "source": [
        "DATA EXAMINING AND CLEANING"
      ]
    },
    {
      "cell_type": "code",
      "metadata": {
        "id": "QY0t5-xxutHp",
        "colab": {
          "base_uri": "https://localhost:8080/"
        },
        "outputId": "860790f3-b620-4e5a-cd88-f9dbb402c8ef"
      },
      "source": [
        "#Types of the data\n",
        "df.info()"
      ],
      "execution_count": 18,
      "outputs": [
        {
          "output_type": "stream",
          "name": "stdout",
          "text": [
            "<class 'pandas.core.frame.DataFrame'>\n",
            "RangeIndex: 87 entries, 0 to 86\n",
            "Data columns (total 18 columns):\n",
            " #   Column          Non-Null Count  Dtype \n",
            "---  ------          --------------  ----- \n",
            " 0   First Name      87 non-null     object\n",
            " 1   Last Name       87 non-null     object\n",
            " 2   Gender          87 non-null     object\n",
            " 3   Date of Birth   87 non-null     object\n",
            " 4   Ethnic Origin   87 non-null     object\n",
            " 5   Occupation      87 non-null     object\n",
            " 6   Address Line 1  87 non-null     object\n",
            " 7   Address Line 2  87 non-null     object\n",
            " 8   Town            87 non-null     object\n",
            " 9   Country         87 non-null     object\n",
            " 10  Post/Zip Code   87 non-null     object\n",
            " 11  Telephone No    87 non-null     object\n",
            " 12  Symptoms        87 non-null     object\n",
            " 13  Vaccinated      87 non-null     object\n",
            " 14  Test Date       87 non-null     object\n",
            " 15  Test Result     87 non-null     object\n",
            " 16  Hospitalized    87 non-null     object\n",
            " 17  Recovered       87 non-null     object\n",
            "dtypes: object(18)\n",
            "memory usage: 12.4+ KB\n"
          ]
        }
      ]
    },
    {
      "cell_type": "code",
      "metadata": {
        "id": "_jSDFKsYu4gx",
        "colab": {
          "base_uri": "https://localhost:8080/",
          "height": 434
        },
        "outputId": "b974fb9b-cbd4-4c20-c04b-a54b26ab814a"
      },
      "source": [
        "# Glimpse of the data in the sql file - top\n",
        "df.head()"
      ],
      "execution_count": 19,
      "outputs": [
        {
          "output_type": "execute_result",
          "data": {
            "text/html": [
              "<div>\n",
              "<style scoped>\n",
              "    .dataframe tbody tr th:only-of-type {\n",
              "        vertical-align: middle;\n",
              "    }\n",
              "\n",
              "    .dataframe tbody tr th {\n",
              "        vertical-align: top;\n",
              "    }\n",
              "\n",
              "    .dataframe thead th {\n",
              "        text-align: right;\n",
              "    }\n",
              "</style>\n",
              "<table border=\"1\" class=\"dataframe\">\n",
              "  <thead>\n",
              "    <tr style=\"text-align: right;\">\n",
              "      <th></th>\n",
              "      <th>First Name</th>\n",
              "      <th>Last Name</th>\n",
              "      <th>Gender</th>\n",
              "      <th>Date of Birth</th>\n",
              "      <th>Ethnic Origin</th>\n",
              "      <th>Occupation</th>\n",
              "      <th>Address Line 1</th>\n",
              "      <th>Address Line 2</th>\n",
              "      <th>Town</th>\n",
              "      <th>Country</th>\n",
              "      <th>Post/Zip Code</th>\n",
              "      <th>Telephone No</th>\n",
              "      <th>Symptoms</th>\n",
              "      <th>Vaccinated</th>\n",
              "      <th>Test Date</th>\n",
              "      <th>Test Result</th>\n",
              "      <th>Hospitalized</th>\n",
              "      <th>Recovered</th>\n",
              "    </tr>\n",
              "  </thead>\n",
              "  <tbody>\n",
              "    <tr>\n",
              "      <th>0</th>\n",
              "      <td>Cammy</td>\n",
              "      <td>Albares</td>\n",
              "      <td>F</td>\n",
              "      <td>12/28/1993</td>\n",
              "      <td>Asian</td>\n",
              "      <td>Managers</td>\n",
              "      <td>56 E Morehead St, Laredo</td>\n",
              "      <td>Webb</td>\n",
              "      <td>Texas</td>\n",
              "      <td>United States of America</td>\n",
              "      <td>78045</td>\n",
              "      <td>956-537-6195</td>\n",
              "      <td>No</td>\n",
              "      <td>No</td>\n",
              "      <td>7/5/2021</td>\n",
              "      <td>Negative</td>\n",
              "      <td>No</td>\n",
              "      <td>Yes</td>\n",
              "    </tr>\n",
              "    <tr>\n",
              "      <th>1</th>\n",
              "      <td>Yuki</td>\n",
              "      <td>Whobrey</td>\n",
              "      <td>M</td>\n",
              "      <td>10/31/1934</td>\n",
              "      <td>Hispanic</td>\n",
              "      <td>Craft Workers</td>\n",
              "      <td>1190 Mark Street</td>\n",
              "      <td>Pietersburg</td>\n",
              "      <td>Limpopo</td>\n",
              "      <td>South Africa</td>\n",
              "      <td>0713</td>\n",
              "      <td>083 993 4035</td>\n",
              "      <td>Yes</td>\n",
              "      <td>Yes</td>\n",
              "      <td>7/3/2021</td>\n",
              "      <td>Positive</td>\n",
              "      <td>Yes</td>\n",
              "      <td>Yes</td>\n",
              "    </tr>\n",
              "    <tr>\n",
              "      <th>2</th>\n",
              "      <td>Tina</td>\n",
              "      <td>Clapham</td>\n",
              "      <td>F</td>\n",
              "      <td>11/4/1934</td>\n",
              "      <td>Hispanic</td>\n",
              "      <td>Machine Operators</td>\n",
              "      <td>5662 William Moult St</td>\n",
              "      <td>Aylesbury</td>\n",
              "      <td>Buckinghamshire</td>\n",
              "      <td>England - United Kingdom</td>\n",
              "      <td>EH52 6NF</td>\n",
              "      <td>01428-343825</td>\n",
              "      <td>Yes</td>\n",
              "      <td>Yes</td>\n",
              "      <td>6/29/2021</td>\n",
              "      <td>Negative</td>\n",
              "      <td>No</td>\n",
              "      <td>Yes</td>\n",
              "    </tr>\n",
              "    <tr>\n",
              "      <th>3</th>\n",
              "      <td>Lura</td>\n",
              "      <td>Manzella</td>\n",
              "      <td>M</td>\n",
              "      <td>11/28/2002</td>\n",
              "      <td>Asian</td>\n",
              "      <td>Armed Forces</td>\n",
              "      <td>929 Augustine St</td>\n",
              "      <td>Staple Hill Ward</td>\n",
              "      <td>South Gloucestershire</td>\n",
              "      <td>England - United Kingdom</td>\n",
              "      <td>BS16 4LL</td>\n",
              "      <td>01907-538509</td>\n",
              "      <td>No</td>\n",
              "      <td>Yes</td>\n",
              "      <td>5/19/2021</td>\n",
              "      <td>Positive</td>\n",
              "      <td>Yes</td>\n",
              "      <td>Yes</td>\n",
              "    </tr>\n",
              "    <tr>\n",
              "      <th>4</th>\n",
              "      <td>Lenna</td>\n",
              "      <td>Paprocki</td>\n",
              "      <td>F</td>\n",
              "      <td>12/8/1995</td>\n",
              "      <td>Caucasian</td>\n",
              "      <td>Machine Operators</td>\n",
              "      <td>639 Main St</td>\n",
              "      <td>Anchorage</td>\n",
              "      <td>Arkansas</td>\n",
              "      <td>United States of America</td>\n",
              "      <td>99501</td>\n",
              "      <td>907-385-4412</td>\n",
              "      <td>No</td>\n",
              "      <td>Yes</td>\n",
              "      <td>5/28/2021</td>\n",
              "      <td>Positive</td>\n",
              "      <td>No</td>\n",
              "      <td>No</td>\n",
              "    </tr>\n",
              "  </tbody>\n",
              "</table>\n",
              "</div>"
            ],
            "text/plain": [
              "  First Name Last Name Gender  ... Test Result Hospitalized Recovered\n",
              "0      Cammy   Albares      F  ...    Negative           No       Yes\n",
              "1       Yuki   Whobrey      M  ...    Positive          Yes       Yes\n",
              "2       Tina   Clapham      F  ...    Negative           No       Yes\n",
              "3       Lura  Manzella      M  ...    Positive          Yes       Yes\n",
              "4      Lenna  Paprocki      F  ...    Positive           No        No\n",
              "\n",
              "[5 rows x 18 columns]"
            ]
          },
          "metadata": {},
          "execution_count": 19
        }
      ]
    },
    {
      "cell_type": "code",
      "metadata": {
        "id": "BrTa2MKRvN9A",
        "colab": {
          "base_uri": "https://localhost:8080/",
          "height": 434
        },
        "outputId": "8acd92a7-5ef8-46e4-bb9a-f485dd81ca29"
      },
      "source": [
        "# Glimpse of the data in the sql file - tail\n",
        "df.tail()"
      ],
      "execution_count": 20,
      "outputs": [
        {
          "output_type": "execute_result",
          "data": {
            "text/html": [
              "<div>\n",
              "<style scoped>\n",
              "    .dataframe tbody tr th:only-of-type {\n",
              "        vertical-align: middle;\n",
              "    }\n",
              "\n",
              "    .dataframe tbody tr th {\n",
              "        vertical-align: top;\n",
              "    }\n",
              "\n",
              "    .dataframe thead th {\n",
              "        text-align: right;\n",
              "    }\n",
              "</style>\n",
              "<table border=\"1\" class=\"dataframe\">\n",
              "  <thead>\n",
              "    <tr style=\"text-align: right;\">\n",
              "      <th></th>\n",
              "      <th>First Name</th>\n",
              "      <th>Last Name</th>\n",
              "      <th>Gender</th>\n",
              "      <th>Date of Birth</th>\n",
              "      <th>Ethnic Origin</th>\n",
              "      <th>Occupation</th>\n",
              "      <th>Address Line 1</th>\n",
              "      <th>Address Line 2</th>\n",
              "      <th>Town</th>\n",
              "      <th>Country</th>\n",
              "      <th>Post/Zip Code</th>\n",
              "      <th>Telephone No</th>\n",
              "      <th>Symptoms</th>\n",
              "      <th>Vaccinated</th>\n",
              "      <th>Test Date</th>\n",
              "      <th>Test Result</th>\n",
              "      <th>Hospitalized</th>\n",
              "      <th>Recovered</th>\n",
              "    </tr>\n",
              "  </thead>\n",
              "  <tbody>\n",
              "    <tr>\n",
              "      <th>82</th>\n",
              "      <td>Ezekiel</td>\n",
              "      <td>Chui</td>\n",
              "      <td>M</td>\n",
              "      <td>4/2/1955</td>\n",
              "      <td>Hispanic</td>\n",
              "      <td>Machine Operators</td>\n",
              "      <td>2 Cedar Ave #84, Easton</td>\n",
              "      <td>Talbot</td>\n",
              "      <td>Maryland</td>\n",
              "      <td>United States of America</td>\n",
              "      <td>21601</td>\n",
              "      <td>410-669-1642</td>\n",
              "      <td>Yes</td>\n",
              "      <td>No</td>\n",
              "      <td>6/13/2021</td>\n",
              "      <td>Negative</td>\n",
              "      <td>No</td>\n",
              "      <td>Yes</td>\n",
              "    </tr>\n",
              "    <tr>\n",
              "      <th>83</th>\n",
              "      <td>Sol</td>\n",
              "      <td>Cowser</td>\n",
              "      <td>M</td>\n",
              "      <td>2/23/1961</td>\n",
              "      <td>Asian</td>\n",
              "      <td>Machine Operators</td>\n",
              "      <td>6448 Tillard St</td>\n",
              "      <td>Conisbrough and Denaby Ward</td>\n",
              "      <td>South Yorkshire</td>\n",
              "      <td>England - United Kingdom</td>\n",
              "      <td>RG22 5HA</td>\n",
              "      <td>01262-808399</td>\n",
              "      <td>No</td>\n",
              "      <td>Yes</td>\n",
              "      <td>6/13/2021</td>\n",
              "      <td>Negative</td>\n",
              "      <td>Yes</td>\n",
              "      <td>No</td>\n",
              "    </tr>\n",
              "    <tr>\n",
              "      <th>84</th>\n",
              "      <td>Maybelle</td>\n",
              "      <td>Consolazio</td>\n",
              "      <td>F</td>\n",
              "      <td>7/31/1965</td>\n",
              "      <td>Hispanic</td>\n",
              "      <td>Service &amp; Support Workers</td>\n",
              "      <td>5410 Lawton St</td>\n",
              "      <td>Treorchy Community</td>\n",
              "      <td>Rhondda Cynon Taff</td>\n",
              "      <td>England - United Kingdom</td>\n",
              "      <td>SW3 4ND</td>\n",
              "      <td>01345-400452</td>\n",
              "      <td>Yes</td>\n",
              "      <td>No</td>\n",
              "      <td>5/9/2021</td>\n",
              "      <td>Negative</td>\n",
              "      <td>No</td>\n",
              "      <td>Yes</td>\n",
              "    </tr>\n",
              "    <tr>\n",
              "      <th>85</th>\n",
              "      <td>Ammie</td>\n",
              "      <td>Corrio</td>\n",
              "      <td>F</td>\n",
              "      <td>3/25/2003</td>\n",
              "      <td>Asian</td>\n",
              "      <td>Machine Operators</td>\n",
              "      <td>74874 Atlantic Ave, Columbus</td>\n",
              "      <td>Franklin</td>\n",
              "      <td>Ohio</td>\n",
              "      <td>United States of America</td>\n",
              "      <td>43215</td>\n",
              "      <td>614-801-9788</td>\n",
              "      <td>No</td>\n",
              "      <td>No</td>\n",
              "      <td>5/5/2021</td>\n",
              "      <td>Negative</td>\n",
              "      <td>Yes</td>\n",
              "      <td>Yes</td>\n",
              "    </tr>\n",
              "    <tr>\n",
              "      <th>86</th>\n",
              "      <td>Arlean</td>\n",
              "      <td>Calaf</td>\n",
              "      <td>M</td>\n",
              "      <td>9/25/1964</td>\n",
              "      <td>Asian</td>\n",
              "      <td>Clerical Workers</td>\n",
              "      <td>82 Waterhouse Lane</td>\n",
              "      <td>Llantrisant Community</td>\n",
              "      <td>Rhondda Cynon Taff</td>\n",
              "      <td>Wales - United Kingdom</td>\n",
              "      <td>CF72 8LB</td>\n",
              "      <td>01448-395723</td>\n",
              "      <td>No</td>\n",
              "      <td>No</td>\n",
              "      <td>5/27/2021</td>\n",
              "      <td>Negative</td>\n",
              "      <td>No</td>\n",
              "      <td>Yes</td>\n",
              "    </tr>\n",
              "  </tbody>\n",
              "</table>\n",
              "</div>"
            ],
            "text/plain": [
              "   First Name   Last Name Gender  ... Test Result Hospitalized Recovered\n",
              "82    Ezekiel        Chui      M  ...    Negative           No       Yes\n",
              "83        Sol      Cowser      M  ...    Negative          Yes        No\n",
              "84   Maybelle  Consolazio      F  ...    Negative           No       Yes\n",
              "85      Ammie      Corrio      F  ...    Negative          Yes       Yes\n",
              "86     Arlean       Calaf      M  ...    Negative           No       Yes\n",
              "\n",
              "[5 rows x 18 columns]"
            ]
          },
          "metadata": {},
          "execution_count": 20
        }
      ]
    },
    {
      "cell_type": "code",
      "metadata": {
        "id": "BFoZuoYuvXM4",
        "colab": {
          "base_uri": "https://localhost:8080/"
        },
        "outputId": "e980cd08-ff6d-46b2-8e49-fa46d98f0205"
      },
      "source": [
        "# Checking for any missing values\n",
        "df.isnull().sum()"
      ],
      "execution_count": 21,
      "outputs": [
        {
          "output_type": "execute_result",
          "data": {
            "text/plain": [
              "First Name        0\n",
              "Last Name         0\n",
              "Gender            0\n",
              "Date of Birth     0\n",
              "Ethnic Origin     0\n",
              "Occupation        0\n",
              "Address Line 1    0\n",
              "Address Line 2    0\n",
              "Town              0\n",
              "Country           0\n",
              "Post/Zip Code     0\n",
              "Telephone No      0\n",
              "Symptoms          0\n",
              "Vaccinated        0\n",
              "Test Date         0\n",
              "Test Result       0\n",
              "Hospitalized      0\n",
              "Recovered         0\n",
              "dtype: int64"
            ]
          },
          "metadata": {},
          "execution_count": 21
        }
      ]
    },
    {
      "cell_type": "markdown",
      "metadata": {
        "id": "yc6uZ0IMMs3B"
      },
      "source": [
        "CREATION OF PIVOT TABLE IN SQL FOR ANALYSIS"
      ]
    },
    {
      "cell_type": "code",
      "metadata": {
        "colab": {
          "base_uri": "https://localhost:8080/",
          "height": 206
        },
        "id": "qwtSJh9zMpai",
        "outputId": "6cdecbb1-e10e-44e3-fb85-6f795b4704ee"
      },
      "source": [
        "# Pivot table creation for Data Analysis\n",
        "\n",
        "df_analysis = pd.read_sql_query('''SELECT [Ethnic Origin],\n",
        "    SUM(CASE WHEN [Test Result] = 'Positive' THEN 1 END) as Positive_Cases,\n",
        "    SUM(CASE WHEN [Test Result] = 'Negative' THEN 1 END) as Negative_Cases,\n",
        "    SUM(CASE WHEN [Vaccinated] = 'Yes' THEN 1 END) as Vaccinated,\n",
        "    SUM(CASE WHEN [Hospitalized] = 'Yes' THEN 1 END) as Hospitalized,\n",
        "    SUM(CASE WHEN [Gender] = 'M' THEN 1 END) as Males,\n",
        "    SUM(CASE WHEN [Gender] = 'F' THEN 1 END) as Females,\n",
        "    SUM(CASE WHEN [Symptoms] = 'Yes' THEN 1 END) as Symptoms,\n",
        "    SUM(CASE WHEN [Recovered] = 'Yes' THEN 1 END) as Recovered,\n",
        "    SUM(CASE WHEN [Recovered] = 'No' THEN 1 END) as Deaths \n",
        "  FROM\n",
        "    User_tbl GROUP BY [Ethnic Origin]''', conn)\n",
        "\n",
        "df_analysis.head()"
      ],
      "execution_count": 22,
      "outputs": [
        {
          "output_type": "execute_result",
          "data": {
            "text/html": [
              "<div>\n",
              "<style scoped>\n",
              "    .dataframe tbody tr th:only-of-type {\n",
              "        vertical-align: middle;\n",
              "    }\n",
              "\n",
              "    .dataframe tbody tr th {\n",
              "        vertical-align: top;\n",
              "    }\n",
              "\n",
              "    .dataframe thead th {\n",
              "        text-align: right;\n",
              "    }\n",
              "</style>\n",
              "<table border=\"1\" class=\"dataframe\">\n",
              "  <thead>\n",
              "    <tr style=\"text-align: right;\">\n",
              "      <th></th>\n",
              "      <th>Ethnic Origin</th>\n",
              "      <th>Positive_Cases</th>\n",
              "      <th>Negative_Cases</th>\n",
              "      <th>Vaccinated</th>\n",
              "      <th>Hospitalized</th>\n",
              "      <th>Males</th>\n",
              "      <th>Females</th>\n",
              "      <th>Symptoms</th>\n",
              "      <th>Recovered</th>\n",
              "      <th>Deaths</th>\n",
              "    </tr>\n",
              "  </thead>\n",
              "  <tbody>\n",
              "    <tr>\n",
              "      <th>0</th>\n",
              "      <td>Asian</td>\n",
              "      <td>19</td>\n",
              "      <td>8</td>\n",
              "      <td>14</td>\n",
              "      <td>18</td>\n",
              "      <td>15</td>\n",
              "      <td>12</td>\n",
              "      <td>14</td>\n",
              "      <td>16</td>\n",
              "      <td>11</td>\n",
              "    </tr>\n",
              "    <tr>\n",
              "      <th>1</th>\n",
              "      <td>Black African</td>\n",
              "      <td>5</td>\n",
              "      <td>9</td>\n",
              "      <td>8</td>\n",
              "      <td>9</td>\n",
              "      <td>4</td>\n",
              "      <td>10</td>\n",
              "      <td>10</td>\n",
              "      <td>9</td>\n",
              "      <td>5</td>\n",
              "    </tr>\n",
              "    <tr>\n",
              "      <th>2</th>\n",
              "      <td>Caucasian</td>\n",
              "      <td>9</td>\n",
              "      <td>11</td>\n",
              "      <td>12</td>\n",
              "      <td>11</td>\n",
              "      <td>6</td>\n",
              "      <td>14</td>\n",
              "      <td>9</td>\n",
              "      <td>8</td>\n",
              "      <td>12</td>\n",
              "    </tr>\n",
              "    <tr>\n",
              "      <th>3</th>\n",
              "      <td>Hispanic</td>\n",
              "      <td>8</td>\n",
              "      <td>8</td>\n",
              "      <td>8</td>\n",
              "      <td>6</td>\n",
              "      <td>8</td>\n",
              "      <td>8</td>\n",
              "      <td>11</td>\n",
              "      <td>11</td>\n",
              "      <td>5</td>\n",
              "    </tr>\n",
              "    <tr>\n",
              "      <th>4</th>\n",
              "      <td>Native American</td>\n",
              "      <td>7</td>\n",
              "      <td>3</td>\n",
              "      <td>5</td>\n",
              "      <td>4</td>\n",
              "      <td>7</td>\n",
              "      <td>3</td>\n",
              "      <td>6</td>\n",
              "      <td>5</td>\n",
              "      <td>5</td>\n",
              "    </tr>\n",
              "  </tbody>\n",
              "</table>\n",
              "</div>"
            ],
            "text/plain": [
              "     Ethnic Origin  Positive_Cases  Negative_Cases  ...  Symptoms  Recovered  Deaths\n",
              "0            Asian              19               8  ...        14         16      11\n",
              "1    Black African               5               9  ...        10          9       5\n",
              "2        Caucasian               9              11  ...         9          8      12\n",
              "3         Hispanic               8               8  ...        11         11       5\n",
              "4  Native American               7               3  ...         6          5       5\n",
              "\n",
              "[5 rows x 10 columns]"
            ]
          },
          "metadata": {},
          "execution_count": 22
        }
      ]
    },
    {
      "cell_type": "markdown",
      "metadata": {
        "id": "ZQskLbcyxL6A"
      },
      "source": [
        "DATA VISUALIZATION AND ANALYSIS"
      ]
    },
    {
      "cell_type": "code",
      "metadata": {
        "colab": {
          "base_uri": "https://localhost:8080/",
          "height": 1000
        },
        "id": "RUrcUQkQvi-I",
        "outputId": "7ac119f9-45f2-41e2-9052-a4f23ef0be40"
      },
      "source": [
        "# Multi-plot \n",
        "%matplotlib inline\n",
        "sns.pairplot(df_analysis, x_vars=['Ethnic Origin'],\n",
        "                  y_vars=['Positive_Cases', 'Negative_Cases', 'Symptoms', 'Hospitalized', 'Vaccinated', 'Deaths', 'Recovered'], hue = \"Ethnic Origin\", height = 8)\n",
        "# sns.scatterplot(df_analysis, kind='scatter')\n",
        "plt.show()"
      ],
      "execution_count": 48,
      "outputs": [
        {
          "output_type": "display_data",
          "data": {
            "image/png": "[encoded data removed]",
            "text/plain": [
              "<Figure size 695.125x4032 with 7 Axes>"
            ]
          },
          "metadata": {
            "needs_background": "light"
          }
        }
      ]
    },
    {
      "cell_type": "code",
      "metadata": {
        "id": "4JTIFfAmfiPa"
      },
      "source": [
        "data = df_analysis[['Hospitalized', 'Symptoms', 'Vaccinated', 'Recovered', 'Ethnic Origin', 'Males', 'Females']]\n",
        "plt.figure()"
      ],
      "execution_count": null,
      "outputs": []
    },
    {
      "cell_type": "code",
      "metadata": {
        "colab": {
          "base_uri": "https://localhost:8080/",
          "height": 1000
        },
        "id": "qRtGpEoodT9G",
        "outputId": "fa06a8c7-a12b-46ad-881e-1722559a5836"
      },
      "source": [
        "import seaborn as sns\n",
        "sns.pairplot(df_analysis)"
      ],
      "execution_count": 45,
      "outputs": [
        {
          "output_type": "execute_result",
          "data": {
            "text/plain": [
              "<seaborn.axisgrid.PairGrid at 0x7f946390a1d0>"
            ]
          },
          "metadata": {},
          "execution_count": 45
        },
        {
          "output_type": "display_data",
          "data": {
            "image/png": "[encoded data removed]",
            "text/plain": [
              "<Figure size 1620x1620 with 90 Axes>"
            ]
          },
          "metadata": {
            "needs_background": "light"
          }
        }
      ]
    },
    {
      "cell_type": "code",
      "metadata": {
        "colab": {
          "base_uri": "https://localhost:8080/",
          "height": 1000
        },
        "id": "Nk19dYilgO6O",
        "outputId": "2fc7390c-d237-40b1-ed92-9537bf65f02c"
      },
      "source": [
        "# Finding the correlation between events.\n",
        "\n",
        "plt.figure(figsize=(24,24))\n",
        "sns.heatmap(df_analysis.corr(),cmap=\"rainbow\",annot=True,annot_kws={\"size\": 10},linewidths=1)"
      ],
      "execution_count": 53,
      "outputs": [
        {
          "output_type": "execute_result",
          "data": {
            "text/plain": [
              "<matplotlib.axes._subplots.AxesSubplot at 0x7f945f03e450>"
            ]
          },
          "metadata": {},
          "execution_count": 53
        },
        {
          "output_type": "display_data",
          "data": {
            "image/png": "[encoded data removed]",
            "text/plain": [
              "<Figure size 1728x1728 with 2 Axes>"
            ]
          },
          "metadata": {
            "needs_background": "light"
          }
        }
      ]
    },
    {
      "cell_type": "markdown",
      "metadata": {
        "id": "VYhIxQpihcbc"
      },
      "source": [
        "Examination of Critical Factors from Correlation with Respect to Ethnic Grouping"
      ]
    },
    {
      "cell_type": "code",
      "metadata": {
        "colab": {
          "base_uri": "https://localhost:8080/",
          "height": 732
        },
        "id": "vfbLO2E9hoAm",
        "outputId": "f81a4a79-ca51-4a85-9da4-3002bd04ca0f"
      },
      "source": [
        "sns.set_style('whitegrid')\n",
        "\n",
        "f,axes = plt.subplots(3,2, figsize=(12,12))\n",
        "\n",
        "sns.countplot(x='Vaccinated', hue='Ethnic Origin', data=df, ax=axes[0,0])\n",
        "sns.countplot(x='Symptoms', hue='Ethnic Origin', data=df, ax=axes[0,1])\n",
        "sns.countplot(x='Gender', hue='Ethnic Origin', data=df, ax=axes[1,0])\n",
        "sns.countplot(x='Recovered', hue='Ethnic Origin', data=df, ax=axes[1,1])\n",
        "sns.countplot(x='Hospitalized', hue='Ethnic Origin', data=df, ax=axes[2,0])\n",
        "sns.countplot(x='Occupation', hue='Ethnic Origin', data=df, ax=axes[2,1])"
      ],
      "execution_count": 65,
      "outputs": [
        {
          "output_type": "execute_result",
          "data": {
            "text/plain": [
              "<matplotlib.axes._subplots.AxesSubplot at 0x7f945f8eb4d0>"
            ]
          },
          "metadata": {},
          "execution_count": 65
        },
        {
          "output_type": "display_data",
          "data": {
            "image/png": "[encoded data removed]",
            "text/plain": [
              "<Figure size 864x864 with 6 Axes>"
            ]
          },
          "metadata": {}
        }
      ]
    },
    {
      "cell_type": "markdown",
      "metadata": {
        "id": "dJOFP7LulV5J"
      },
      "source": [
        "Machine Learning Modelling"
      ]
    },
    {
      "cell_type": "code",
      "metadata": {
        "id": "2Rq1e4hslZ86"
      },
      "source": [
        "# imports\n",
        "from sklearn.model_selection import train_test_split\n",
        "from sklearn.preprocessing import StandardScaler\n",
        "from sklearn.metrics import accuracy_score\n",
        "from sklearn.metrics import classification_report,confusion_matrix\n",
        "from sklearn.model_selection import cross_val_score\n",
        "\n",
        "from sklearn.neighbors import KNeighborsClassifier\n",
        "from sklearn.linear_model import LogisticRegression\n",
        "from sklearn.tree import DecisionTreeClassifier\n",
        "from sklearn.naive_bayes import GaussianNB\n",
        "from sklearn.neural_network import MLPClassifier\n",
        "\n",
        "from sklearn.ensemble import RandomForestClassifier, GradientBoostingClassifier"
      ],
      "execution_count": 67,
      "outputs": []
    },
    {
      "cell_type": "markdown",
      "metadata": {
        "id": "yWfhhaG5v3CA"
      },
      "source": [
        "Data pre-processing for ML"
      ]
    },
    {
      "cell_type": "code",
      "metadata": {
        "id": "_A7Yfu8fvuMk"
      },
      "source": [
        "# Function to perform One Hot Encoding\n",
        "def encode_onehot(data, column):\n",
        "    data = data.copy()\n",
        "    dumdata = pd.get_dummies(data[column], prefix=column)\n",
        "    data = pd.concat([data, dumdata], axis=1)\n",
        "    data = data.drop(column, axis=1)\n",
        "    return data"
      ],
      "execution_count": 68,
      "outputs": []
    },
    {
      "cell_type": "code",
      "metadata": {
        "id": "XqzSCqrLwJkt"
      },
      "source": [
        "# Function that processes inputs and returns X_train, X_test, y_train, and y_test values.\n",
        "def processed_inputs(data):\n",
        "    data = data.copy()\n",
        "\n",
        "#     Remove the ID column\n",
        "    data = data.drop('Address Line 1', axis=1)\n",
        "    data = data.drop('Address Line 2', axis=1)\n",
        "    data = data.drop('Post/Zip Code', axis=1)\n",
        "    data = data.drop('Telephone No', axis=1)\n",
        "    data = data.drop('Test Date', axis=1)\n",
        "    data = data.drop('First Name', axis=1)\n",
        "    data = data.drop('Last Name', axis=1)\n",
        "    data = data.drop('Date of Birth', axis=1)\n",
        "    \n",
        "#     Binary encoding for gender\n",
        "    data['Gender'] = data['Gender'].replace({'F': 0, 'M': 1})\n",
        "\n",
        "    data['Symptoms'] = data['Symptoms'].replace({'No': 0, 'Yes': 1})\n",
        "    data['Hospitalized'] = data['Hospitalized'].replace({'No': 0, 'Yes': 1})\n",
        "    data['Vaccinated'] = data['Vaccinated'].replace({'No': 0, 'Yes': 1})\n",
        "    data['Recovered'] = data['Recovered'].replace({'No': 0, 'Yes': 1})\n",
        "\n",
        "    data['Test Result'] = data['Test Result'].replace({'Negative': 0, 'Positive': 1})\n",
        "    \n",
        "#     One-hot encoding\n",
        "    for column in ['Ethnic Origin', 'Town', 'Country', 'Occupation']:\n",
        "        data = encode_onehot(data, column=column)\n",
        "        \n",
        "    #Splitting df into X and y\n",
        "    \n",
        "    y = data['Test Result']\n",
        "    X = data.drop('Test Result', axis=1)\n",
        "    \n",
        "#     Train-test split\n",
        "    X_train, X_test, y_train, y_test = train_test_split(X, y, train_size=0.75, shuffle=True, random_state=1)\n",
        "    \n",
        "#     Scaling X using standard scaler\n",
        "    scaler = StandardScaler()\n",
        "    scaler.fit(X_train)\n",
        "    \n",
        "    X_train = pd.DataFrame(scaler.transform(X_train), index=X_train.index, columns=X_train.columns)\n",
        "    X_test = pd.DataFrame(scaler.transform(X_test), index=X_test.index, columns=X_test.columns)\n",
        "    \n",
        "    return X_train, X_test, y_train, y_test"
      ],
      "execution_count": 93,
      "outputs": []
    },
    {
      "cell_type": "code",
      "metadata": {
        "id": "R18RKGL46ELY"
      },
      "source": [
        "# Spltting the data \n",
        "X_train, X_test, y_train, y_test = processed_inputs(df)\n"
      ],
      "execution_count": 94,
      "outputs": []
    },
    {
      "cell_type": "code",
      "metadata": {
        "colab": {
          "base_uri": "https://localhost:8080/",
          "height": 496
        },
        "id": "Vyi-8ei9gORM",
        "outputId": "347f1b52-57a0-44fe-a580-d2c449518459"
      },
      "source": [
        "# View X_train \n",
        "X_train"
      ],
      "execution_count": 95,
      "outputs": [
        {
          "output_type": "execute_result",
          "data": {
            "text/html": [
              "<div>\n",
              "<style scoped>\n",
              "    .dataframe tbody tr th:only-of-type {\n",
              "        vertical-align: middle;\n",
              "    }\n",
              "\n",
              "    .dataframe tbody tr th {\n",
              "        vertical-align: top;\n",
              "    }\n",
              "\n",
              "    .dataframe thead th {\n",
              "        text-align: right;\n",
              "    }\n",
              "</style>\n",
              "<table border=\"1\" class=\"dataframe\">\n",
              "  <thead>\n",
              "    <tr style=\"text-align: right;\">\n",
              "      <th></th>\n",
              "      <th>Gender</th>\n",
              "      <th>Symptoms</th>\n",
              "      <th>Vaccinated</th>\n",
              "      <th>Hospitalized</th>\n",
              "      <th>Recovered</th>\n",
              "      <th>Ethnic Origin_Asian</th>\n",
              "      <th>Ethnic Origin_Black African</th>\n",
              "      <th>Ethnic Origin_Caucasian</th>\n",
              "      <th>Ethnic Origin_Hispanic</th>\n",
              "      <th>Ethnic Origin_Native American</th>\n",
              "      <th>Town_Aberdeenshire</th>\n",
              "      <th>Town_Arkansas</th>\n",
              "      <th>Town_Belfast</th>\n",
              "      <th>Town_Buckinghamshire</th>\n",
              "      <th>Town_Caerphilly</th>\n",
              "      <th>Town_California</th>\n",
              "      <th>Town_Ceredigion</th>\n",
              "      <th>Town_City of Edinburgh</th>\n",
              "      <th>Town_Colorado</th>\n",
              "      <th>Town_Delaware</th>\n",
              "      <th>Town_Denbighshire</th>\n",
              "      <th>Town_Derbyshire</th>\n",
              "      <th>Town_East Sussex</th>\n",
              "      <th>Town_Eastern Cape</th>\n",
              "      <th>Town_Florida</th>\n",
              "      <th>Town_Gauteng</th>\n",
              "      <th>Town_Glasgow City</th>\n",
              "      <th>Town_Gloucestershire</th>\n",
              "      <th>Town_Greater London</th>\n",
              "      <th>Town_Greater Manchester</th>\n",
              "      <th>Town_Hampshire</th>\n",
              "      <th>Town_Idaho</th>\n",
              "      <th>Town_Kent</th>\n",
              "      <th>Town_KwaZulu-Natal</th>\n",
              "      <th>Town_Limpopo</th>\n",
              "      <th>Town_Louisiana</th>\n",
              "      <th>Town_Maryland</th>\n",
              "      <th>Town_Masachussets</th>\n",
              "      <th>Town_Merthyr Tydfil</th>\n",
              "      <th>Town_Michigan</th>\n",
              "      <th>...</th>\n",
              "      <th>Town_Minnesota</th>\n",
              "      <th>Town_New Jersey</th>\n",
              "      <th>Town_New York</th>\n",
              "      <th>Town_Newport</th>\n",
              "      <th>Town_North Eart Lincolnshire</th>\n",
              "      <th>Town_Northern Cape</th>\n",
              "      <th>Town_Ohio</th>\n",
              "      <th>Town_Rhode Island</th>\n",
              "      <th>Town_Rhondda Cynon Taff</th>\n",
              "      <th>Town_South Carolina</th>\n",
              "      <th>Town_South Gloucestershire</th>\n",
              "      <th>Town_South Yorkshire</th>\n",
              "      <th>Town_Staffordshire</th>\n",
              "      <th>Town_Stirling</th>\n",
              "      <th>Town_Surrey</th>\n",
              "      <th>Town_Tenessee</th>\n",
              "      <th>Town_Texas</th>\n",
              "      <th>Town_Tyne &amp; Wear</th>\n",
              "      <th>Town_Vale of Glamorgan</th>\n",
              "      <th>Town_West Midlands</th>\n",
              "      <th>Town_West Sussex</th>\n",
              "      <th>Town_Western Cape</th>\n",
              "      <th>Town_Western Isles</th>\n",
              "      <th>Town_Wisconsin</th>\n",
              "      <th>Town_Yorkshire, South</th>\n",
              "      <th>Country_England - United Kingdom</th>\n",
              "      <th>Country_Northern Ireland - United Kingdom</th>\n",
              "      <th>Country_Scotland - United Kingdom</th>\n",
              "      <th>Country_South Africa</th>\n",
              "      <th>Country_United States of America</th>\n",
              "      <th>Country_Wales - United Kingdom</th>\n",
              "      <th>Occupation_Armed Forces</th>\n",
              "      <th>Occupation_Clerical Workers</th>\n",
              "      <th>Occupation_Craft Workers</th>\n",
              "      <th>Occupation_Machine Operators</th>\n",
              "      <th>Occupation_Managers</th>\n",
              "      <th>Occupation_Professionals</th>\n",
              "      <th>Occupation_Service &amp; Support Workers</th>\n",
              "      <th>Occupation_Skilled Agriculture, Forestry &amp; Fishery Workers</th>\n",
              "      <th>Occupation_Technicians</th>\n",
              "    </tr>\n",
              "  </thead>\n",
              "  <tbody>\n",
              "    <tr>\n",
              "      <th>34</th>\n",
              "      <td>1.047270</td>\n",
              "      <td>-1.149534</td>\n",
              "      <td>0.954864</td>\n",
              "      <td>-1.114172</td>\n",
              "      <td>-1.149534</td>\n",
              "      <td>-0.666667</td>\n",
              "      <td>-0.451335</td>\n",
              "      <td>-0.547723</td>\n",
              "      <td>-0.475831</td>\n",
              "      <td>2.878492</td>\n",
              "      <td>-0.219971</td>\n",
              "      <td>-0.219971</td>\n",
              "      <td>0.0</td>\n",
              "      <td>0.0</td>\n",
              "      <td>-0.178174</td>\n",
              "      <td>-0.219971</td>\n",
              "      <td>-0.125</td>\n",
              "      <td>-0.125</td>\n",
              "      <td>-0.125</td>\n",
              "      <td>-0.178174</td>\n",
              "      <td>-0.125</td>\n",
              "      <td>-0.125</td>\n",
              "      <td>-0.125</td>\n",
              "      <td>-0.125</td>\n",
              "      <td>0.0</td>\n",
              "      <td>-0.219971</td>\n",
              "      <td>-0.125</td>\n",
              "      <td>0.0</td>\n",
              "      <td>4.546061</td>\n",
              "      <td>0.0</td>\n",
              "      <td>-0.125</td>\n",
              "      <td>0.0</td>\n",
              "      <td>-0.219971</td>\n",
              "      <td>-0.125</td>\n",
              "      <td>-0.125</td>\n",
              "      <td>-0.178174</td>\n",
              "      <td>0.0</td>\n",
              "      <td>-0.125</td>\n",
              "      <td>-0.125</td>\n",
              "      <td>-0.125</td>\n",
              "      <td>...</td>\n",
              "      <td>0.0</td>\n",
              "      <td>-0.125</td>\n",
              "      <td>-0.219971</td>\n",
              "      <td>-0.125</td>\n",
              "      <td>-0.125</td>\n",
              "      <td>0.0</td>\n",
              "      <td>-0.178174</td>\n",
              "      <td>-0.125</td>\n",
              "      <td>-0.178174</td>\n",
              "      <td>0.0</td>\n",
              "      <td>-0.125</td>\n",
              "      <td>-0.125</td>\n",
              "      <td>0.0</td>\n",
              "      <td>-0.125</td>\n",
              "      <td>-0.125</td>\n",
              "      <td>-0.125</td>\n",
              "      <td>-0.125</td>\n",
              "      <td>-0.125</td>\n",
              "      <td>-0.125</td>\n",
              "      <td>-0.178174</td>\n",
              "      <td>-0.125</td>\n",
              "      <td>-0.125</td>\n",
              "      <td>-0.125</td>\n",
              "      <td>-0.125</td>\n",
              "      <td>-0.125</td>\n",
              "      <td>1.351328</td>\n",
              "      <td>0.0</td>\n",
              "      <td>-0.318896</td>\n",
              "      <td>-0.347404</td>\n",
              "      <td>-0.765092</td>\n",
              "      <td>-0.288675</td>\n",
              "      <td>-0.426401</td>\n",
              "      <td>-0.400892</td>\n",
              "      <td>-0.288675</td>\n",
              "      <td>-0.347404</td>\n",
              "      <td>-0.318896</td>\n",
              "      <td>2.878492</td>\n",
              "      <td>-0.400892</td>\n",
              "      <td>-0.400892</td>\n",
              "      <td>-0.219971</td>\n",
              "    </tr>\n",
              "    <tr>\n",
              "      <th>32</th>\n",
              "      <td>1.047270</td>\n",
              "      <td>0.869918</td>\n",
              "      <td>-1.047270</td>\n",
              "      <td>0.897527</td>\n",
              "      <td>-1.149534</td>\n",
              "      <td>1.500000</td>\n",
              "      <td>-0.451335</td>\n",
              "      <td>-0.547723</td>\n",
              "      <td>-0.475831</td>\n",
              "      <td>-0.347404</td>\n",
              "      <td>-0.219971</td>\n",
              "      <td>-0.219971</td>\n",
              "      <td>0.0</td>\n",
              "      <td>0.0</td>\n",
              "      <td>-0.178174</td>\n",
              "      <td>-0.219971</td>\n",
              "      <td>-0.125</td>\n",
              "      <td>-0.125</td>\n",
              "      <td>-0.125</td>\n",
              "      <td>-0.178174</td>\n",
              "      <td>-0.125</td>\n",
              "      <td>-0.125</td>\n",
              "      <td>-0.125</td>\n",
              "      <td>-0.125</td>\n",
              "      <td>0.0</td>\n",
              "      <td>-0.219971</td>\n",
              "      <td>-0.125</td>\n",
              "      <td>0.0</td>\n",
              "      <td>-0.219971</td>\n",
              "      <td>0.0</td>\n",
              "      <td>-0.125</td>\n",
              "      <td>0.0</td>\n",
              "      <td>-0.219971</td>\n",
              "      <td>-0.125</td>\n",
              "      <td>-0.125</td>\n",
              "      <td>-0.178174</td>\n",
              "      <td>0.0</td>\n",
              "      <td>-0.125</td>\n",
              "      <td>-0.125</td>\n",
              "      <td>-0.125</td>\n",
              "      <td>...</td>\n",
              "      <td>0.0</td>\n",
              "      <td>-0.125</td>\n",
              "      <td>-0.219971</td>\n",
              "      <td>-0.125</td>\n",
              "      <td>-0.125</td>\n",
              "      <td>0.0</td>\n",
              "      <td>-0.178174</td>\n",
              "      <td>-0.125</td>\n",
              "      <td>5.612486</td>\n",
              "      <td>0.0</td>\n",
              "      <td>-0.125</td>\n",
              "      <td>-0.125</td>\n",
              "      <td>0.0</td>\n",
              "      <td>-0.125</td>\n",
              "      <td>-0.125</td>\n",
              "      <td>-0.125</td>\n",
              "      <td>-0.125</td>\n",
              "      <td>-0.125</td>\n",
              "      <td>-0.125</td>\n",
              "      <td>-0.178174</td>\n",
              "      <td>-0.125</td>\n",
              "      <td>-0.125</td>\n",
              "      <td>-0.125</td>\n",
              "      <td>-0.125</td>\n",
              "      <td>-0.125</td>\n",
              "      <td>-0.740013</td>\n",
              "      <td>0.0</td>\n",
              "      <td>-0.318896</td>\n",
              "      <td>-0.347404</td>\n",
              "      <td>-0.765092</td>\n",
              "      <td>3.464102</td>\n",
              "      <td>-0.426401</td>\n",
              "      <td>-0.400892</td>\n",
              "      <td>-0.288675</td>\n",
              "      <td>-0.347404</td>\n",
              "      <td>-0.318896</td>\n",
              "      <td>-0.347404</td>\n",
              "      <td>2.494438</td>\n",
              "      <td>-0.400892</td>\n",
              "      <td>-0.219971</td>\n",
              "    </tr>\n",
              "    <tr>\n",
              "      <th>31</th>\n",
              "      <td>1.047270</td>\n",
              "      <td>-1.149534</td>\n",
              "      <td>-1.047270</td>\n",
              "      <td>-1.114172</td>\n",
              "      <td>0.869918</td>\n",
              "      <td>-0.666667</td>\n",
              "      <td>-0.451335</td>\n",
              "      <td>-0.547723</td>\n",
              "      <td>2.101587</td>\n",
              "      <td>-0.347404</td>\n",
              "      <td>-0.219971</td>\n",
              "      <td>-0.219971</td>\n",
              "      <td>0.0</td>\n",
              "      <td>0.0</td>\n",
              "      <td>-0.178174</td>\n",
              "      <td>-0.219971</td>\n",
              "      <td>-0.125</td>\n",
              "      <td>-0.125</td>\n",
              "      <td>-0.125</td>\n",
              "      <td>-0.178174</td>\n",
              "      <td>-0.125</td>\n",
              "      <td>-0.125</td>\n",
              "      <td>-0.125</td>\n",
              "      <td>-0.125</td>\n",
              "      <td>0.0</td>\n",
              "      <td>-0.219971</td>\n",
              "      <td>-0.125</td>\n",
              "      <td>0.0</td>\n",
              "      <td>-0.219971</td>\n",
              "      <td>0.0</td>\n",
              "      <td>-0.125</td>\n",
              "      <td>0.0</td>\n",
              "      <td>-0.219971</td>\n",
              "      <td>-0.125</td>\n",
              "      <td>-0.125</td>\n",
              "      <td>-0.178174</td>\n",
              "      <td>0.0</td>\n",
              "      <td>-0.125</td>\n",
              "      <td>-0.125</td>\n",
              "      <td>-0.125</td>\n",
              "      <td>...</td>\n",
              "      <td>0.0</td>\n",
              "      <td>-0.125</td>\n",
              "      <td>-0.219971</td>\n",
              "      <td>-0.125</td>\n",
              "      <td>-0.125</td>\n",
              "      <td>0.0</td>\n",
              "      <td>-0.178174</td>\n",
              "      <td>-0.125</td>\n",
              "      <td>-0.178174</td>\n",
              "      <td>0.0</td>\n",
              "      <td>-0.125</td>\n",
              "      <td>-0.125</td>\n",
              "      <td>0.0</td>\n",
              "      <td>8.000</td>\n",
              "      <td>-0.125</td>\n",
              "      <td>-0.125</td>\n",
              "      <td>-0.125</td>\n",
              "      <td>-0.125</td>\n",
              "      <td>-0.125</td>\n",
              "      <td>-0.178174</td>\n",
              "      <td>-0.125</td>\n",
              "      <td>-0.125</td>\n",
              "      <td>-0.125</td>\n",
              "      <td>-0.125</td>\n",
              "      <td>-0.125</td>\n",
              "      <td>1.351328</td>\n",
              "      <td>0.0</td>\n",
              "      <td>-0.318896</td>\n",
              "      <td>-0.347404</td>\n",
              "      <td>-0.765092</td>\n",
              "      <td>-0.288675</td>\n",
              "      <td>-0.426401</td>\n",
              "      <td>-0.400892</td>\n",
              "      <td>-0.288675</td>\n",
              "      <td>-0.347404</td>\n",
              "      <td>-0.318896</td>\n",
              "      <td>2.878492</td>\n",
              "      <td>-0.400892</td>\n",
              "      <td>-0.400892</td>\n",
              "      <td>-0.219971</td>\n",
              "    </tr>\n",
              "    <tr>\n",
              "      <th>43</th>\n",
              "      <td>1.047270</td>\n",
              "      <td>-1.149534</td>\n",
              "      <td>-1.047270</td>\n",
              "      <td>-1.114172</td>\n",
              "      <td>0.869918</td>\n",
              "      <td>-0.666667</td>\n",
              "      <td>-0.451335</td>\n",
              "      <td>1.825742</td>\n",
              "      <td>-0.475831</td>\n",
              "      <td>-0.347404</td>\n",
              "      <td>-0.219971</td>\n",
              "      <td>-0.219971</td>\n",
              "      <td>0.0</td>\n",
              "      <td>0.0</td>\n",
              "      <td>-0.178174</td>\n",
              "      <td>-0.219971</td>\n",
              "      <td>-0.125</td>\n",
              "      <td>-0.125</td>\n",
              "      <td>-0.125</td>\n",
              "      <td>-0.178174</td>\n",
              "      <td>-0.125</td>\n",
              "      <td>-0.125</td>\n",
              "      <td>-0.125</td>\n",
              "      <td>-0.125</td>\n",
              "      <td>0.0</td>\n",
              "      <td>-0.219971</td>\n",
              "      <td>-0.125</td>\n",
              "      <td>0.0</td>\n",
              "      <td>-0.219971</td>\n",
              "      <td>0.0</td>\n",
              "      <td>-0.125</td>\n",
              "      <td>0.0</td>\n",
              "      <td>-0.219971</td>\n",
              "      <td>-0.125</td>\n",
              "      <td>-0.125</td>\n",
              "      <td>-0.178174</td>\n",
              "      <td>0.0</td>\n",
              "      <td>-0.125</td>\n",
              "      <td>-0.125</td>\n",
              "      <td>-0.125</td>\n",
              "      <td>...</td>\n",
              "      <td>0.0</td>\n",
              "      <td>-0.125</td>\n",
              "      <td>-0.219971</td>\n",
              "      <td>-0.125</td>\n",
              "      <td>8.000</td>\n",
              "      <td>0.0</td>\n",
              "      <td>-0.178174</td>\n",
              "      <td>-0.125</td>\n",
              "      <td>-0.178174</td>\n",
              "      <td>0.0</td>\n",
              "      <td>-0.125</td>\n",
              "      <td>-0.125</td>\n",
              "      <td>0.0</td>\n",
              "      <td>-0.125</td>\n",
              "      <td>-0.125</td>\n",
              "      <td>-0.125</td>\n",
              "      <td>-0.125</td>\n",
              "      <td>-0.125</td>\n",
              "      <td>-0.125</td>\n",
              "      <td>-0.178174</td>\n",
              "      <td>-0.125</td>\n",
              "      <td>-0.125</td>\n",
              "      <td>-0.125</td>\n",
              "      <td>-0.125</td>\n",
              "      <td>-0.125</td>\n",
              "      <td>1.351328</td>\n",
              "      <td>0.0</td>\n",
              "      <td>-0.318896</td>\n",
              "      <td>-0.347404</td>\n",
              "      <td>-0.765092</td>\n",
              "      <td>-0.288675</td>\n",
              "      <td>-0.426401</td>\n",
              "      <td>-0.400892</td>\n",
              "      <td>-0.288675</td>\n",
              "      <td>-0.347404</td>\n",
              "      <td>-0.318896</td>\n",
              "      <td>-0.347404</td>\n",
              "      <td>-0.400892</td>\n",
              "      <td>2.494438</td>\n",
              "      <td>-0.219971</td>\n",
              "    </tr>\n",
              "    <tr>\n",
              "      <th>62</th>\n",
              "      <td>1.047270</td>\n",
              "      <td>0.869918</td>\n",
              "      <td>-1.047270</td>\n",
              "      <td>0.897527</td>\n",
              "      <td>0.869918</td>\n",
              "      <td>-0.666667</td>\n",
              "      <td>-0.451335</td>\n",
              "      <td>-0.547723</td>\n",
              "      <td>2.101587</td>\n",
              "      <td>-0.347404</td>\n",
              "      <td>-0.219971</td>\n",
              "      <td>-0.219971</td>\n",
              "      <td>0.0</td>\n",
              "      <td>0.0</td>\n",
              "      <td>-0.178174</td>\n",
              "      <td>-0.219971</td>\n",
              "      <td>-0.125</td>\n",
              "      <td>-0.125</td>\n",
              "      <td>-0.125</td>\n",
              "      <td>-0.178174</td>\n",
              "      <td>-0.125</td>\n",
              "      <td>-0.125</td>\n",
              "      <td>-0.125</td>\n",
              "      <td>-0.125</td>\n",
              "      <td>0.0</td>\n",
              "      <td>-0.219971</td>\n",
              "      <td>-0.125</td>\n",
              "      <td>0.0</td>\n",
              "      <td>-0.219971</td>\n",
              "      <td>0.0</td>\n",
              "      <td>-0.125</td>\n",
              "      <td>0.0</td>\n",
              "      <td>-0.219971</td>\n",
              "      <td>-0.125</td>\n",
              "      <td>-0.125</td>\n",
              "      <td>-0.178174</td>\n",
              "      <td>0.0</td>\n",
              "      <td>-0.125</td>\n",
              "      <td>-0.125</td>\n",
              "      <td>-0.125</td>\n",
              "      <td>...</td>\n",
              "      <td>0.0</td>\n",
              "      <td>-0.125</td>\n",
              "      <td>-0.219971</td>\n",
              "      <td>-0.125</td>\n",
              "      <td>-0.125</td>\n",
              "      <td>0.0</td>\n",
              "      <td>-0.178174</td>\n",
              "      <td>-0.125</td>\n",
              "      <td>-0.178174</td>\n",
              "      <td>0.0</td>\n",
              "      <td>-0.125</td>\n",
              "      <td>-0.125</td>\n",
              "      <td>0.0</td>\n",
              "      <td>-0.125</td>\n",
              "      <td>-0.125</td>\n",
              "      <td>-0.125</td>\n",
              "      <td>-0.125</td>\n",
              "      <td>-0.125</td>\n",
              "      <td>-0.125</td>\n",
              "      <td>-0.178174</td>\n",
              "      <td>-0.125</td>\n",
              "      <td>-0.125</td>\n",
              "      <td>-0.125</td>\n",
              "      <td>-0.125</td>\n",
              "      <td>-0.125</td>\n",
              "      <td>-0.740013</td>\n",
              "      <td>0.0</td>\n",
              "      <td>-0.318896</td>\n",
              "      <td>-0.347404</td>\n",
              "      <td>1.307032</td>\n",
              "      <td>-0.288675</td>\n",
              "      <td>-0.426401</td>\n",
              "      <td>-0.400892</td>\n",
              "      <td>-0.288675</td>\n",
              "      <td>2.878492</td>\n",
              "      <td>-0.318896</td>\n",
              "      <td>-0.347404</td>\n",
              "      <td>-0.400892</td>\n",
              "      <td>-0.400892</td>\n",
              "      <td>-0.219971</td>\n",
              "    </tr>\n",
              "    <tr>\n",
              "      <th>...</th>\n",
              "      <td>...</td>\n",
              "      <td>...</td>\n",
              "      <td>...</td>\n",
              "      <td>...</td>\n",
              "      <td>...</td>\n",
              "      <td>...</td>\n",
              "      <td>...</td>\n",
              "      <td>...</td>\n",
              "      <td>...</td>\n",
              "      <td>...</td>\n",
              "      <td>...</td>\n",
              "      <td>...</td>\n",
              "      <td>...</td>\n",
              "      <td>...</td>\n",
              "      <td>...</td>\n",
              "      <td>...</td>\n",
              "      <td>...</td>\n",
              "      <td>...</td>\n",
              "      <td>...</td>\n",
              "      <td>...</td>\n",
              "      <td>...</td>\n",
              "      <td>...</td>\n",
              "      <td>...</td>\n",
              "      <td>...</td>\n",
              "      <td>...</td>\n",
              "      <td>...</td>\n",
              "      <td>...</td>\n",
              "      <td>...</td>\n",
              "      <td>...</td>\n",
              "      <td>...</td>\n",
              "      <td>...</td>\n",
              "      <td>...</td>\n",
              "      <td>...</td>\n",
              "      <td>...</td>\n",
              "      <td>...</td>\n",
              "      <td>...</td>\n",
              "      <td>...</td>\n",
              "      <td>...</td>\n",
              "      <td>...</td>\n",
              "      <td>...</td>\n",
              "      <td>...</td>\n",
              "      <td>...</td>\n",
              "      <td>...</td>\n",
              "      <td>...</td>\n",
              "      <td>...</td>\n",
              "      <td>...</td>\n",
              "      <td>...</td>\n",
              "      <td>...</td>\n",
              "      <td>...</td>\n",
              "      <td>...</td>\n",
              "      <td>...</td>\n",
              "      <td>...</td>\n",
              "      <td>...</td>\n",
              "      <td>...</td>\n",
              "      <td>...</td>\n",
              "      <td>...</td>\n",
              "      <td>...</td>\n",
              "      <td>...</td>\n",
              "      <td>...</td>\n",
              "      <td>...</td>\n",
              "      <td>...</td>\n",
              "      <td>...</td>\n",
              "      <td>...</td>\n",
              "      <td>...</td>\n",
              "      <td>...</td>\n",
              "      <td>...</td>\n",
              "      <td>...</td>\n",
              "      <td>...</td>\n",
              "      <td>...</td>\n",
              "      <td>...</td>\n",
              "      <td>...</td>\n",
              "      <td>...</td>\n",
              "      <td>...</td>\n",
              "      <td>...</td>\n",
              "      <td>...</td>\n",
              "      <td>...</td>\n",
              "      <td>...</td>\n",
              "      <td>...</td>\n",
              "      <td>...</td>\n",
              "      <td>...</td>\n",
              "      <td>...</td>\n",
              "    </tr>\n",
              "    <tr>\n",
              "      <th>75</th>\n",
              "      <td>-0.954864</td>\n",
              "      <td>-1.149534</td>\n",
              "      <td>-1.047270</td>\n",
              "      <td>0.897527</td>\n",
              "      <td>-1.149534</td>\n",
              "      <td>-0.666667</td>\n",
              "      <td>-0.451335</td>\n",
              "      <td>-0.547723</td>\n",
              "      <td>2.101587</td>\n",
              "      <td>-0.347404</td>\n",
              "      <td>4.546061</td>\n",
              "      <td>-0.219971</td>\n",
              "      <td>0.0</td>\n",
              "      <td>0.0</td>\n",
              "      <td>-0.178174</td>\n",
              "      <td>-0.219971</td>\n",
              "      <td>-0.125</td>\n",
              "      <td>-0.125</td>\n",
              "      <td>-0.125</td>\n",
              "      <td>-0.178174</td>\n",
              "      <td>-0.125</td>\n",
              "      <td>-0.125</td>\n",
              "      <td>-0.125</td>\n",
              "      <td>-0.125</td>\n",
              "      <td>0.0</td>\n",
              "      <td>-0.219971</td>\n",
              "      <td>-0.125</td>\n",
              "      <td>0.0</td>\n",
              "      <td>-0.219971</td>\n",
              "      <td>0.0</td>\n",
              "      <td>-0.125</td>\n",
              "      <td>0.0</td>\n",
              "      <td>-0.219971</td>\n",
              "      <td>-0.125</td>\n",
              "      <td>-0.125</td>\n",
              "      <td>-0.178174</td>\n",
              "      <td>0.0</td>\n",
              "      <td>-0.125</td>\n",
              "      <td>-0.125</td>\n",
              "      <td>-0.125</td>\n",
              "      <td>...</td>\n",
              "      <td>0.0</td>\n",
              "      <td>-0.125</td>\n",
              "      <td>-0.219971</td>\n",
              "      <td>-0.125</td>\n",
              "      <td>-0.125</td>\n",
              "      <td>0.0</td>\n",
              "      <td>-0.178174</td>\n",
              "      <td>-0.125</td>\n",
              "      <td>-0.178174</td>\n",
              "      <td>0.0</td>\n",
              "      <td>-0.125</td>\n",
              "      <td>-0.125</td>\n",
              "      <td>0.0</td>\n",
              "      <td>-0.125</td>\n",
              "      <td>-0.125</td>\n",
              "      <td>-0.125</td>\n",
              "      <td>-0.125</td>\n",
              "      <td>-0.125</td>\n",
              "      <td>-0.125</td>\n",
              "      <td>-0.178174</td>\n",
              "      <td>-0.125</td>\n",
              "      <td>-0.125</td>\n",
              "      <td>-0.125</td>\n",
              "      <td>-0.125</td>\n",
              "      <td>-0.125</td>\n",
              "      <td>-0.740013</td>\n",
              "      <td>0.0</td>\n",
              "      <td>3.135815</td>\n",
              "      <td>-0.347404</td>\n",
              "      <td>-0.765092</td>\n",
              "      <td>-0.288675</td>\n",
              "      <td>-0.426401</td>\n",
              "      <td>-0.400892</td>\n",
              "      <td>-0.288675</td>\n",
              "      <td>-0.347404</td>\n",
              "      <td>-0.318896</td>\n",
              "      <td>-0.347404</td>\n",
              "      <td>2.494438</td>\n",
              "      <td>-0.400892</td>\n",
              "      <td>-0.219971</td>\n",
              "    </tr>\n",
              "    <tr>\n",
              "      <th>9</th>\n",
              "      <td>-0.954864</td>\n",
              "      <td>0.869918</td>\n",
              "      <td>-1.047270</td>\n",
              "      <td>0.897527</td>\n",
              "      <td>0.869918</td>\n",
              "      <td>-0.666667</td>\n",
              "      <td>2.215647</td>\n",
              "      <td>-0.547723</td>\n",
              "      <td>-0.475831</td>\n",
              "      <td>-0.347404</td>\n",
              "      <td>-0.219971</td>\n",
              "      <td>-0.219971</td>\n",
              "      <td>0.0</td>\n",
              "      <td>0.0</td>\n",
              "      <td>-0.178174</td>\n",
              "      <td>-0.219971</td>\n",
              "      <td>-0.125</td>\n",
              "      <td>-0.125</td>\n",
              "      <td>-0.125</td>\n",
              "      <td>-0.178174</td>\n",
              "      <td>-0.125</td>\n",
              "      <td>-0.125</td>\n",
              "      <td>-0.125</td>\n",
              "      <td>-0.125</td>\n",
              "      <td>0.0</td>\n",
              "      <td>-0.219971</td>\n",
              "      <td>-0.125</td>\n",
              "      <td>0.0</td>\n",
              "      <td>-0.219971</td>\n",
              "      <td>0.0</td>\n",
              "      <td>-0.125</td>\n",
              "      <td>0.0</td>\n",
              "      <td>-0.219971</td>\n",
              "      <td>-0.125</td>\n",
              "      <td>-0.125</td>\n",
              "      <td>-0.178174</td>\n",
              "      <td>0.0</td>\n",
              "      <td>-0.125</td>\n",
              "      <td>-0.125</td>\n",
              "      <td>-0.125</td>\n",
              "      <td>...</td>\n",
              "      <td>0.0</td>\n",
              "      <td>-0.125</td>\n",
              "      <td>-0.219971</td>\n",
              "      <td>-0.125</td>\n",
              "      <td>-0.125</td>\n",
              "      <td>0.0</td>\n",
              "      <td>-0.178174</td>\n",
              "      <td>-0.125</td>\n",
              "      <td>-0.178174</td>\n",
              "      <td>0.0</td>\n",
              "      <td>-0.125</td>\n",
              "      <td>-0.125</td>\n",
              "      <td>0.0</td>\n",
              "      <td>-0.125</td>\n",
              "      <td>-0.125</td>\n",
              "      <td>-0.125</td>\n",
              "      <td>-0.125</td>\n",
              "      <td>-0.125</td>\n",
              "      <td>8.000</td>\n",
              "      <td>-0.178174</td>\n",
              "      <td>-0.125</td>\n",
              "      <td>-0.125</td>\n",
              "      <td>-0.125</td>\n",
              "      <td>-0.125</td>\n",
              "      <td>-0.125</td>\n",
              "      <td>-0.740013</td>\n",
              "      <td>0.0</td>\n",
              "      <td>-0.318896</td>\n",
              "      <td>-0.347404</td>\n",
              "      <td>-0.765092</td>\n",
              "      <td>3.464102</td>\n",
              "      <td>-0.426401</td>\n",
              "      <td>-0.400892</td>\n",
              "      <td>-0.288675</td>\n",
              "      <td>-0.347404</td>\n",
              "      <td>-0.318896</td>\n",
              "      <td>-0.347404</td>\n",
              "      <td>-0.400892</td>\n",
              "      <td>2.494438</td>\n",
              "      <td>-0.219971</td>\n",
              "    </tr>\n",
              "    <tr>\n",
              "      <th>72</th>\n",
              "      <td>1.047270</td>\n",
              "      <td>0.869918</td>\n",
              "      <td>0.954864</td>\n",
              "      <td>0.897527</td>\n",
              "      <td>0.869918</td>\n",
              "      <td>1.500000</td>\n",
              "      <td>-0.451335</td>\n",
              "      <td>-0.547723</td>\n",
              "      <td>-0.475831</td>\n",
              "      <td>-0.347404</td>\n",
              "      <td>-0.219971</td>\n",
              "      <td>-0.219971</td>\n",
              "      <td>0.0</td>\n",
              "      <td>0.0</td>\n",
              "      <td>5.612486</td>\n",
              "      <td>-0.219971</td>\n",
              "      <td>-0.125</td>\n",
              "      <td>-0.125</td>\n",
              "      <td>-0.125</td>\n",
              "      <td>-0.178174</td>\n",
              "      <td>-0.125</td>\n",
              "      <td>-0.125</td>\n",
              "      <td>-0.125</td>\n",
              "      <td>-0.125</td>\n",
              "      <td>0.0</td>\n",
              "      <td>-0.219971</td>\n",
              "      <td>-0.125</td>\n",
              "      <td>0.0</td>\n",
              "      <td>-0.219971</td>\n",
              "      <td>0.0</td>\n",
              "      <td>-0.125</td>\n",
              "      <td>0.0</td>\n",
              "      <td>-0.219971</td>\n",
              "      <td>-0.125</td>\n",
              "      <td>-0.125</td>\n",
              "      <td>-0.178174</td>\n",
              "      <td>0.0</td>\n",
              "      <td>-0.125</td>\n",
              "      <td>-0.125</td>\n",
              "      <td>-0.125</td>\n",
              "      <td>...</td>\n",
              "      <td>0.0</td>\n",
              "      <td>-0.125</td>\n",
              "      <td>-0.219971</td>\n",
              "      <td>-0.125</td>\n",
              "      <td>-0.125</td>\n",
              "      <td>0.0</td>\n",
              "      <td>-0.178174</td>\n",
              "      <td>-0.125</td>\n",
              "      <td>-0.178174</td>\n",
              "      <td>0.0</td>\n",
              "      <td>-0.125</td>\n",
              "      <td>-0.125</td>\n",
              "      <td>0.0</td>\n",
              "      <td>-0.125</td>\n",
              "      <td>-0.125</td>\n",
              "      <td>-0.125</td>\n",
              "      <td>-0.125</td>\n",
              "      <td>-0.125</td>\n",
              "      <td>-0.125</td>\n",
              "      <td>-0.178174</td>\n",
              "      <td>-0.125</td>\n",
              "      <td>-0.125</td>\n",
              "      <td>-0.125</td>\n",
              "      <td>-0.125</td>\n",
              "      <td>-0.125</td>\n",
              "      <td>-0.740013</td>\n",
              "      <td>0.0</td>\n",
              "      <td>-0.318896</td>\n",
              "      <td>-0.347404</td>\n",
              "      <td>-0.765092</td>\n",
              "      <td>3.464102</td>\n",
              "      <td>-0.426401</td>\n",
              "      <td>-0.400892</td>\n",
              "      <td>-0.288675</td>\n",
              "      <td>-0.347404</td>\n",
              "      <td>3.135815</td>\n",
              "      <td>-0.347404</td>\n",
              "      <td>-0.400892</td>\n",
              "      <td>-0.400892</td>\n",
              "      <td>-0.219971</td>\n",
              "    </tr>\n",
              "    <tr>\n",
              "      <th>12</th>\n",
              "      <td>-0.954864</td>\n",
              "      <td>-1.149534</td>\n",
              "      <td>0.954864</td>\n",
              "      <td>-1.114172</td>\n",
              "      <td>0.869918</td>\n",
              "      <td>-0.666667</td>\n",
              "      <td>-0.451335</td>\n",
              "      <td>-0.547723</td>\n",
              "      <td>2.101587</td>\n",
              "      <td>-0.347404</td>\n",
              "      <td>-0.219971</td>\n",
              "      <td>-0.219971</td>\n",
              "      <td>0.0</td>\n",
              "      <td>0.0</td>\n",
              "      <td>-0.178174</td>\n",
              "      <td>4.546061</td>\n",
              "      <td>-0.125</td>\n",
              "      <td>-0.125</td>\n",
              "      <td>-0.125</td>\n",
              "      <td>-0.178174</td>\n",
              "      <td>-0.125</td>\n",
              "      <td>-0.125</td>\n",
              "      <td>-0.125</td>\n",
              "      <td>-0.125</td>\n",
              "      <td>0.0</td>\n",
              "      <td>-0.219971</td>\n",
              "      <td>-0.125</td>\n",
              "      <td>0.0</td>\n",
              "      <td>-0.219971</td>\n",
              "      <td>0.0</td>\n",
              "      <td>-0.125</td>\n",
              "      <td>0.0</td>\n",
              "      <td>-0.219971</td>\n",
              "      <td>-0.125</td>\n",
              "      <td>-0.125</td>\n",
              "      <td>-0.178174</td>\n",
              "      <td>0.0</td>\n",
              "      <td>-0.125</td>\n",
              "      <td>-0.125</td>\n",
              "      <td>-0.125</td>\n",
              "      <td>...</td>\n",
              "      <td>0.0</td>\n",
              "      <td>-0.125</td>\n",
              "      <td>-0.219971</td>\n",
              "      <td>-0.125</td>\n",
              "      <td>-0.125</td>\n",
              "      <td>0.0</td>\n",
              "      <td>-0.178174</td>\n",
              "      <td>-0.125</td>\n",
              "      <td>-0.178174</td>\n",
              "      <td>0.0</td>\n",
              "      <td>-0.125</td>\n",
              "      <td>-0.125</td>\n",
              "      <td>0.0</td>\n",
              "      <td>-0.125</td>\n",
              "      <td>-0.125</td>\n",
              "      <td>-0.125</td>\n",
              "      <td>-0.125</td>\n",
              "      <td>-0.125</td>\n",
              "      <td>-0.125</td>\n",
              "      <td>-0.178174</td>\n",
              "      <td>-0.125</td>\n",
              "      <td>-0.125</td>\n",
              "      <td>-0.125</td>\n",
              "      <td>-0.125</td>\n",
              "      <td>-0.125</td>\n",
              "      <td>-0.740013</td>\n",
              "      <td>0.0</td>\n",
              "      <td>-0.318896</td>\n",
              "      <td>-0.347404</td>\n",
              "      <td>1.307032</td>\n",
              "      <td>-0.288675</td>\n",
              "      <td>-0.426401</td>\n",
              "      <td>-0.400892</td>\n",
              "      <td>-0.288675</td>\n",
              "      <td>-0.347404</td>\n",
              "      <td>-0.318896</td>\n",
              "      <td>-0.347404</td>\n",
              "      <td>2.494438</td>\n",
              "      <td>-0.400892</td>\n",
              "      <td>-0.219971</td>\n",
              "    </tr>\n",
              "    <tr>\n",
              "      <th>37</th>\n",
              "      <td>-0.954864</td>\n",
              "      <td>0.869918</td>\n",
              "      <td>0.954864</td>\n",
              "      <td>0.897527</td>\n",
              "      <td>0.869918</td>\n",
              "      <td>1.500000</td>\n",
              "      <td>-0.451335</td>\n",
              "      <td>-0.547723</td>\n",
              "      <td>-0.475831</td>\n",
              "      <td>-0.347404</td>\n",
              "      <td>-0.219971</td>\n",
              "      <td>-0.219971</td>\n",
              "      <td>0.0</td>\n",
              "      <td>0.0</td>\n",
              "      <td>-0.178174</td>\n",
              "      <td>-0.219971</td>\n",
              "      <td>-0.125</td>\n",
              "      <td>-0.125</td>\n",
              "      <td>-0.125</td>\n",
              "      <td>-0.178174</td>\n",
              "      <td>-0.125</td>\n",
              "      <td>-0.125</td>\n",
              "      <td>-0.125</td>\n",
              "      <td>-0.125</td>\n",
              "      <td>0.0</td>\n",
              "      <td>4.546061</td>\n",
              "      <td>-0.125</td>\n",
              "      <td>0.0</td>\n",
              "      <td>-0.219971</td>\n",
              "      <td>0.0</td>\n",
              "      <td>-0.125</td>\n",
              "      <td>0.0</td>\n",
              "      <td>-0.219971</td>\n",
              "      <td>-0.125</td>\n",
              "      <td>-0.125</td>\n",
              "      <td>-0.178174</td>\n",
              "      <td>0.0</td>\n",
              "      <td>-0.125</td>\n",
              "      <td>-0.125</td>\n",
              "      <td>-0.125</td>\n",
              "      <td>...</td>\n",
              "      <td>0.0</td>\n",
              "      <td>-0.125</td>\n",
              "      <td>-0.219971</td>\n",
              "      <td>-0.125</td>\n",
              "      <td>-0.125</td>\n",
              "      <td>0.0</td>\n",
              "      <td>-0.178174</td>\n",
              "      <td>-0.125</td>\n",
              "      <td>-0.178174</td>\n",
              "      <td>0.0</td>\n",
              "      <td>-0.125</td>\n",
              "      <td>-0.125</td>\n",
              "      <td>0.0</td>\n",
              "      <td>-0.125</td>\n",
              "      <td>-0.125</td>\n",
              "      <td>-0.125</td>\n",
              "      <td>-0.125</td>\n",
              "      <td>-0.125</td>\n",
              "      <td>-0.125</td>\n",
              "      <td>-0.178174</td>\n",
              "      <td>-0.125</td>\n",
              "      <td>-0.125</td>\n",
              "      <td>-0.125</td>\n",
              "      <td>-0.125</td>\n",
              "      <td>-0.125</td>\n",
              "      <td>-0.740013</td>\n",
              "      <td>0.0</td>\n",
              "      <td>-0.318896</td>\n",
              "      <td>2.878492</td>\n",
              "      <td>-0.765092</td>\n",
              "      <td>-0.288675</td>\n",
              "      <td>-0.426401</td>\n",
              "      <td>-0.400892</td>\n",
              "      <td>-0.288675</td>\n",
              "      <td>-0.347404</td>\n",
              "      <td>3.135815</td>\n",
              "      <td>-0.347404</td>\n",
              "      <td>-0.400892</td>\n",
              "      <td>-0.400892</td>\n",
              "      <td>-0.219971</td>\n",
              "    </tr>\n",
              "  </tbody>\n",
              "</table>\n",
              "<p>65 rows × 81 columns</p>\n",
              "</div>"
            ],
            "text/plain": [
              "      Gender  ...  Occupation_Technicians\n",
              "34  1.047270  ...               -0.219971\n",
              "32  1.047270  ...               -0.219971\n",
              "31  1.047270  ...               -0.219971\n",
              "43  1.047270  ...               -0.219971\n",
              "62  1.047270  ...               -0.219971\n",
              "..       ...  ...                     ...\n",
              "75 -0.954864  ...               -0.219971\n",
              "9  -0.954864  ...               -0.219971\n",
              "72  1.047270  ...               -0.219971\n",
              "12 -0.954864  ...               -0.219971\n",
              "37 -0.954864  ...               -0.219971\n",
              "\n",
              "[65 rows x 81 columns]"
            ]
          },
          "metadata": {},
          "execution_count": 95
        }
      ]
    },
    {
      "cell_type": "code",
      "metadata": {
        "colab": {
          "base_uri": "https://localhost:8080/"
        },
        "id": "CxXw5GDAgTZn",
        "outputId": "5c9808ef-58c2-42fe-c819-55dfcdd07e32"
      },
      "source": [
        "# View Y_train \n",
        "y_train"
      ],
      "execution_count": 97,
      "outputs": [
        {
          "output_type": "execute_result",
          "data": {
            "text/plain": [
              "34    1\n",
              "32    1\n",
              "31    0\n",
              "43    1\n",
              "62    1\n",
              "     ..\n",
              "75    1\n",
              "9     0\n",
              "72    1\n",
              "12    1\n",
              "37    0\n",
              "Name: Test Result, Length: 65, dtype: int64"
            ]
          },
          "metadata": {},
          "execution_count": 97
        }
      ]
    },
    {
      "cell_type": "markdown",
      "metadata": {
        "id": "G9UMM0DehATb"
      },
      "source": [
        "Different Models for Training the Data"
      ]
    },
    {
      "cell_type": "markdown",
      "metadata": {
        "id": "YzOQOuIYhIlg"
      },
      "source": [
        "KNN Nearest Neighbour Classifier"
      ]
    },
    {
      "cell_type": "code",
      "metadata": {
        "colab": {
          "base_uri": "https://localhost:8080/"
        },
        "id": "S03WbDNhgmwz",
        "outputId": "efe25087-9396-417e-a686-0d98dd46e6aa"
      },
      "source": [
        "knn = KNeighborsClassifier()\n",
        "knn.fit(X_train, y_train)"
      ],
      "execution_count": 98,
      "outputs": [
        {
          "output_type": "execute_result",
          "data": {
            "text/plain": [
              "KNeighborsClassifier(algorithm='auto', leaf_size=30, metric='minkowski',\n",
              "                     metric_params=None, n_jobs=None, n_neighbors=5, p=2,\n",
              "                     weights='uniform')"
            ]
          },
          "metadata": {},
          "execution_count": 98
        }
      ]
    },
    {
      "cell_type": "code",
      "metadata": {
        "colab": {
          "base_uri": "https://localhost:8080/"
        },
        "id": "WuSVt04BhV62",
        "outputId": "0ab8d9c2-da67-42a8-d69d-e68a47ec36af"
      },
      "source": [
        "knn.score(X_test, y_test)"
      ],
      "execution_count": 99,
      "outputs": [
        {
          "output_type": "execute_result",
          "data": {
            "text/plain": [
              "0.5"
            ]
          },
          "metadata": {},
          "execution_count": 99
        }
      ]
    },
    {
      "cell_type": "code",
      "metadata": {
        "colab": {
          "base_uri": "https://localhost:8080/"
        },
        "id": "oT-dLhCwhd9F",
        "outputId": "856e84ea-c67b-46fd-a9f8-00f7fce58e1d"
      },
      "source": [
        "#Prediction\n",
        "y_pred_knn = knn.predict(X_test)\n",
        "y_pred_knn"
      ],
      "execution_count": 100,
      "outputs": [
        {
          "output_type": "execute_result",
          "data": {
            "text/plain": [
              "array([1, 0, 1, 1, 1, 1, 0, 0, 1, 0, 1, 0, 0, 1, 0, 1, 1, 0, 0, 0, 1, 0])"
            ]
          },
          "metadata": {},
          "execution_count": 100
        }
      ]
    },
    {
      "cell_type": "markdown",
      "metadata": {
        "id": "vMu384sKhoUZ"
      },
      "source": [
        "Logistic Regression"
      ]
    },
    {
      "cell_type": "code",
      "metadata": {
        "colab": {
          "base_uri": "https://localhost:8080/"
        },
        "id": "qzjv853vhrJo",
        "outputId": "6de555a8-f969-479e-f02e-dfee2eca354e"
      },
      "source": [
        "lr = LogisticRegression()\n",
        "lr.fit(X_train, y_train)"
      ],
      "execution_count": 101,
      "outputs": [
        {
          "output_type": "execute_result",
          "data": {
            "text/plain": [
              "LogisticRegression(C=1.0, class_weight=None, dual=False, fit_intercept=True,\n",
              "                   intercept_scaling=1, l1_ratio=None, max_iter=100,\n",
              "                   multi_class='auto', n_jobs=None, penalty='l2',\n",
              "                   random_state=None, solver='lbfgs', tol=0.0001, verbose=0,\n",
              "                   warm_start=False)"
            ]
          },
          "metadata": {},
          "execution_count": 101
        }
      ]
    },
    {
      "cell_type": "code",
      "metadata": {
        "colab": {
          "base_uri": "https://localhost:8080/"
        },
        "id": "Hhs4CLHthucD",
        "outputId": "8af674f6-47e3-4f8a-a5e7-87828c98e851"
      },
      "source": [
        "lr.score(X_test, y_test)"
      ],
      "execution_count": 102,
      "outputs": [
        {
          "output_type": "execute_result",
          "data": {
            "text/plain": [
              "0.6363636363636364"
            ]
          },
          "metadata": {},
          "execution_count": 102
        }
      ]
    },
    {
      "cell_type": "code",
      "metadata": {
        "colab": {
          "base_uri": "https://localhost:8080/"
        },
        "id": "JOKsiouWhx_D",
        "outputId": "2fc98fb9-a329-41d9-8944-5880409dda38"
      },
      "source": [
        "#Prediction\n",
        "y_pred_lr = lr.predict(X_test)\n",
        "y_pred_lr"
      ],
      "execution_count": 103,
      "outputs": [
        {
          "output_type": "execute_result",
          "data": {
            "text/plain": [
              "array([1, 0, 1, 1, 1, 1, 1, 1, 1, 0, 1, 1, 0, 1, 0, 1, 0, 0, 1, 1, 0, 0])"
            ]
          },
          "metadata": {},
          "execution_count": 103
        }
      ]
    },
    {
      "cell_type": "markdown",
      "metadata": {
        "id": "thiVe7g6h0i2"
      },
      "source": [
        "Decision Tree"
      ]
    },
    {
      "cell_type": "code",
      "metadata": {
        "colab": {
          "base_uri": "https://localhost:8080/"
        },
        "id": "7BrqvT39h2TM",
        "outputId": "16e0316b-e374-4ae1-ef27-d1734707b47f"
      },
      "source": [
        "# Decision tree model\n",
        "dt = DecisionTreeClassifier()\n",
        "dt.fit(X_train, y_train)"
      ],
      "execution_count": 104,
      "outputs": [
        {
          "output_type": "execute_result",
          "data": {
            "text/plain": [
              "DecisionTreeClassifier(ccp_alpha=0.0, class_weight=None, criterion='gini',\n",
              "                       max_depth=None, max_features=None, max_leaf_nodes=None,\n",
              "                       min_impurity_decrease=0.0, min_impurity_split=None,\n",
              "                       min_samples_leaf=1, min_samples_split=2,\n",
              "                       min_weight_fraction_leaf=0.0, presort='deprecated',\n",
              "                       random_state=None, splitter='best')"
            ]
          },
          "metadata": {},
          "execution_count": 104
        }
      ]
    },
    {
      "cell_type": "code",
      "metadata": {
        "colab": {
          "base_uri": "https://localhost:8080/"
        },
        "id": "kq3byIfrh6H4",
        "outputId": "cfa38162-ff88-4ddc-c835-2a30e3a1314a"
      },
      "source": [
        "dt.score(X_test, y_test)"
      ],
      "execution_count": 105,
      "outputs": [
        {
          "output_type": "execute_result",
          "data": {
            "text/plain": [
              "0.4090909090909091"
            ]
          },
          "metadata": {},
          "execution_count": 105
        }
      ]
    },
    {
      "cell_type": "code",
      "metadata": {
        "colab": {
          "base_uri": "https://localhost:8080/"
        },
        "id": "dIaZEVsTh9AP",
        "outputId": "09558205-25ea-4853-c50a-6339ed938653"
      },
      "source": [
        "#Prediction\n",
        "y_pred_dt = dt.predict(X_test)\n",
        "y_pred_dt"
      ],
      "execution_count": 106,
      "outputs": [
        {
          "output_type": "execute_result",
          "data": {
            "text/plain": [
              "array([0, 0, 0, 1, 1, 1, 1, 0, 1, 0, 1, 0, 0, 1, 1, 1, 0, 0, 1, 0, 1, 0])"
            ]
          },
          "metadata": {},
          "execution_count": 106
        }
      ]
    },
    {
      "cell_type": "markdown",
      "metadata": {
        "id": "9Y6ydC3qiBgh"
      },
      "source": [
        "Naive Bayes Classification"
      ]
    },
    {
      "cell_type": "code",
      "metadata": {
        "colab": {
          "base_uri": "https://localhost:8080/"
        },
        "id": "SxNsoQOJiEAX",
        "outputId": "a81d8fa0-8ca3-447a-95e8-617898fa2d81"
      },
      "source": [
        "nb = GaussianNB()\n",
        "nb.fit(X_train, y_train)"
      ],
      "execution_count": 107,
      "outputs": [
        {
          "output_type": "execute_result",
          "data": {
            "text/plain": [
              "GaussianNB(priors=None, var_smoothing=1e-09)"
            ]
          },
          "metadata": {},
          "execution_count": 107
        }
      ]
    },
    {
      "cell_type": "code",
      "metadata": {
        "colab": {
          "base_uri": "https://localhost:8080/"
        },
        "id": "a7r44OnRiHNU",
        "outputId": "bfabcd34-d541-43f9-c7e8-46d4ec46f160"
      },
      "source": [
        "nb.score(X_test, y_test)"
      ],
      "execution_count": 108,
      "outputs": [
        {
          "output_type": "execute_result",
          "data": {
            "text/plain": [
              "0.5454545454545454"
            ]
          },
          "metadata": {},
          "execution_count": 108
        }
      ]
    },
    {
      "cell_type": "code",
      "metadata": {
        "colab": {
          "base_uri": "https://localhost:8080/"
        },
        "id": "0EQjgpU7iP85",
        "outputId": "eb53086e-c297-4bd5-96ab-a078665bbf73"
      },
      "source": [
        "# NB Predication \n",
        "y_pred_nb = nb.predict(X_test)\n",
        "y_pred_nb"
      ],
      "execution_count": 109,
      "outputs": [
        {
          "output_type": "execute_result",
          "data": {
            "text/plain": [
              "array([0, 0, 0, 0, 0, 0, 1, 0, 0, 0, 1, 0, 0, 0, 0, 1, 0, 0, 0, 1, 0, 0])"
            ]
          },
          "metadata": {},
          "execution_count": 109
        }
      ]
    },
    {
      "cell_type": "markdown",
      "metadata": {
        "id": "z5hmRUbviXkm"
      },
      "source": [
        "Unsuppervised Learning (Random Forest)"
      ]
    },
    {
      "cell_type": "code",
      "metadata": {
        "colab": {
          "base_uri": "https://localhost:8080/"
        },
        "id": "ram7sjDJiaZ0",
        "outputId": "c97c02e2-bb23-4a1a-b70f-958ab6c9711b"
      },
      "source": [
        "rf = RandomForestClassifier()\n",
        "rf.fit(X_train, y_train)"
      ],
      "execution_count": 110,
      "outputs": [
        {
          "output_type": "execute_result",
          "data": {
            "text/plain": [
              "RandomForestClassifier(bootstrap=True, ccp_alpha=0.0, class_weight=None,\n",
              "                       criterion='gini', max_depth=None, max_features='auto',\n",
              "                       max_leaf_nodes=None, max_samples=None,\n",
              "                       min_impurity_decrease=0.0, min_impurity_split=None,\n",
              "                       min_samples_leaf=1, min_samples_split=2,\n",
              "                       min_weight_fraction_leaf=0.0, n_estimators=100,\n",
              "                       n_jobs=None, oob_score=False, random_state=None,\n",
              "                       verbose=0, warm_start=False)"
            ]
          },
          "metadata": {},
          "execution_count": 110
        }
      ]
    },
    {
      "cell_type": "code",
      "metadata": {
        "colab": {
          "base_uri": "https://localhost:8080/"
        },
        "id": "GRNuyAkNidV8",
        "outputId": "c8fa1e29-779d-46b5-f3f8-c9a7e6892c54"
      },
      "source": [
        "rf.score(X_test, y_test)"
      ],
      "execution_count": 112,
      "outputs": [
        {
          "output_type": "execute_result",
          "data": {
            "text/plain": [
              "0.45454545454545453"
            ]
          },
          "metadata": {},
          "execution_count": 112
        }
      ]
    },
    {
      "cell_type": "code",
      "metadata": {
        "colab": {
          "base_uri": "https://localhost:8080/"
        },
        "id": "kyL6nSMMihPM",
        "outputId": "8fc4b3e1-36b7-475f-c60e-a8a5335859a5"
      },
      "source": [
        "# Prediction \n",
        "\n",
        "y_pred_rf = rf.predict(X_test)\n",
        "y_pred_rf"
      ],
      "execution_count": 113,
      "outputs": [
        {
          "output_type": "execute_result",
          "data": {
            "text/plain": [
              "array([1, 0, 0, 1, 1, 1, 1, 0, 1, 0, 1, 1, 0, 1, 1, 1, 1, 0, 1, 0, 1, 0])"
            ]
          },
          "metadata": {},
          "execution_count": 113
        }
      ]
    },
    {
      "cell_type": "markdown",
      "metadata": {
        "id": "GpReq1Eii1O0"
      },
      "source": [
        "Evaluation of Analysis"
      ]
    },
    {
      "cell_type": "markdown",
      "metadata": {
        "id": "r2x4sS6Vi3G2"
      },
      "source": [
        "Further evaluations function"
      ]
    },
    {
      "cell_type": "code",
      "metadata": {
        "id": "lsOEbRRYi8fR"
      },
      "source": [
        "def evaluation(ypredict, estimator):\n",
        "#     cross validation at 12 folds\n",
        "    acc = cross_val_score(estimator = estimator, X=X_train, y=y_train, cv=12)\n",
        "    print(\"Validation at 12 folds:\", acc)\n",
        "    \n",
        "    print(classification_report(y_test, ypredict))\n",
        "    print(confusion_matrix(y_test, ypredict))"
      ],
      "execution_count": 114,
      "outputs": []
    },
    {
      "cell_type": "markdown",
      "metadata": {
        "id": "tcURpgiWjHpG"
      },
      "source": [
        "KNN Model Evaluation"
      ]
    },
    {
      "cell_type": "code",
      "metadata": {
        "colab": {
          "base_uri": "https://localhost:8080/"
        },
        "id": "7-uOExmkjAV-",
        "outputId": "d31d3d56-3dac-42ae-a1bd-85f6536cbac2"
      },
      "source": [
        "evaluation(y_pred_knn, knn)"
      ],
      "execution_count": 115,
      "outputs": [
        {
          "output_type": "stream",
          "name": "stdout",
          "text": [
            "Validation at 12 folds: [0.83333333 0.66666667 0.83333333 0.33333333 0.33333333 0.2\n",
            " 0.4        0.2        0.8        0.6        0.6        0.8       ]\n",
            "              precision    recall  f1-score   support\n",
            "\n",
            "           0       0.45      0.50      0.48        10\n",
            "           1       0.55      0.50      0.52        12\n",
            "\n",
            "    accuracy                           0.50        22\n",
            "   macro avg       0.50      0.50      0.50        22\n",
            "weighted avg       0.50      0.50      0.50        22\n",
            "\n",
            "[[5 5]\n",
            " [6 6]]\n"
          ]
        }
      ]
    },
    {
      "cell_type": "markdown",
      "metadata": {
        "id": "WWnI8daEjNkt"
      },
      "source": [
        "Logistics Regression Evaluation"
      ]
    },
    {
      "cell_type": "code",
      "metadata": {
        "colab": {
          "base_uri": "https://localhost:8080/"
        },
        "id": "siF04m8DjSrn",
        "outputId": "02e34648-8168-4298-cb68-354cc22b9874"
      },
      "source": [
        "evaluation(y_pred_lr, lr)"
      ],
      "execution_count": 116,
      "outputs": [
        {
          "output_type": "stream",
          "name": "stdout",
          "text": [
            "Validation at 12 folds: [0.16666667 0.66666667 0.33333333 0.83333333 0.66666667 0.4\n",
            " 0.4        0.4        0.8        0.8        0.4        0.8       ]\n",
            "              precision    recall  f1-score   support\n",
            "\n",
            "           0       0.62      0.50      0.56        10\n",
            "           1       0.64      0.75      0.69        12\n",
            "\n",
            "    accuracy                           0.64        22\n",
            "   macro avg       0.63      0.62      0.62        22\n",
            "weighted avg       0.63      0.64      0.63        22\n",
            "\n",
            "[[5 5]\n",
            " [3 9]]\n"
          ]
        }
      ]
    },
    {
      "cell_type": "markdown",
      "metadata": {
        "id": "RAKJ8NA3jXTl"
      },
      "source": [
        "Decision Tree Evaluation"
      ]
    },
    {
      "cell_type": "code",
      "metadata": {
        "colab": {
          "base_uri": "https://localhost:8080/"
        },
        "id": "1jZ3vBNpjbHT",
        "outputId": "7f451900-c593-469e-fb08-4749e2e6475c"
      },
      "source": [
        "evaluation(y_pred_dt, dt)"
      ],
      "execution_count": 117,
      "outputs": [
        {
          "output_type": "stream",
          "name": "stdout",
          "text": [
            "Validation at 12 folds: [0.33333333 0.5        0.5        0.66666667 0.66666667 0.2\n",
            " 0.4        0.8        0.6        0.4        0.2        0.6       ]\n",
            "              precision    recall  f1-score   support\n",
            "\n",
            "           0       0.36      0.40      0.38        10\n",
            "           1       0.45      0.42      0.43        12\n",
            "\n",
            "    accuracy                           0.41        22\n",
            "   macro avg       0.41      0.41      0.41        22\n",
            "weighted avg       0.41      0.41      0.41        22\n",
            "\n",
            "[[4 6]\n",
            " [7 5]]\n"
          ]
        }
      ]
    },
    {
      "cell_type": "markdown",
      "metadata": {
        "id": "6x1LhtTLjei6"
      },
      "source": [
        "Naive Bayes Model Evaluation"
      ]
    },
    {
      "cell_type": "code",
      "metadata": {
        "colab": {
          "base_uri": "https://localhost:8080/"
        },
        "id": "N8Orgy9GjiC5",
        "outputId": "7bec4c88-644f-4e87-ca50-a0dfdccd8498"
      },
      "source": [
        "evaluation(y_pred_nb, nb)"
      ],
      "execution_count": 118,
      "outputs": [
        {
          "output_type": "stream",
          "name": "stdout",
          "text": [
            "Validation at 12 folds: [0.5        0.66666667 0.5        0.83333333 0.5        0.4\n",
            " 0.4        0.2        0.8        0.8        0.4        0.8       ]\n",
            "              precision    recall  f1-score   support\n",
            "\n",
            "           0       0.50      0.90      0.64        10\n",
            "           1       0.75      0.25      0.38        12\n",
            "\n",
            "    accuracy                           0.55        22\n",
            "   macro avg       0.62      0.57      0.51        22\n",
            "weighted avg       0.64      0.55      0.50        22\n",
            "\n",
            "[[9 1]\n",
            " [9 3]]\n"
          ]
        }
      ]
    },
    {
      "cell_type": "markdown",
      "metadata": {
        "id": "xxrtNzGmjkmy"
      },
      "source": [
        "Random Forest Model Evaluation"
      ]
    },
    {
      "cell_type": "code",
      "metadata": {
        "colab": {
          "base_uri": "https://localhost:8080/"
        },
        "id": "q5V9De-0jlqJ",
        "outputId": "3012ef88-2b83-4c30-d5e8-df5abf4d8f87"
      },
      "source": [
        "evaluation(y_pred_rf, rf)"
      ],
      "execution_count": 119,
      "outputs": [
        {
          "output_type": "stream",
          "name": "stdout",
          "text": [
            "Validation at 12 folds: [0.33333333 0.83333333 0.5        0.5        0.66666667 0.4\n",
            " 0.6        0.4        1.         0.8        0.4        0.6       ]\n",
            "              precision    recall  f1-score   support\n",
            "\n",
            "           0       0.38      0.30      0.33        10\n",
            "           1       0.50      0.58      0.54        12\n",
            "\n",
            "    accuracy                           0.45        22\n",
            "   macro avg       0.44      0.44      0.44        22\n",
            "weighted avg       0.44      0.45      0.45        22\n",
            "\n",
            "[[3 7]\n",
            " [5 7]]\n"
          ]
        }
      ]
    }
  ]
}